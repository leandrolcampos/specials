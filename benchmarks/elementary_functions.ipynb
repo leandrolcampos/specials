{
 "cells": [
  {
   "cell_type": "markdown",
   "metadata": {},
   "source": [
    "*Copyright 2024 The Specials Authors. Licensed under the Apache License, Version 2.0 (the \"License\").*"
   ]
  },
  {
   "cell_type": "markdown",
   "metadata": {},
   "source": [
    "_Some of the code in this file is adapted from:_\n",
    "\n",
    "_modularml/mojo_<br>\n",
    "_Copyright (c) 2023, Modular Inc._<br>\n",
    "_Licensed under the Apache License v2.0 with LLVM Exceptions._"
   ]
  },
  {
   "cell_type": "markdown",
   "metadata": {},
   "source": [
    "# Elementary Functions in Specials\n",
    "\n",
    "In this Jupyter notebook, we compare the implementations of elementary functions from the Specials package with those found in well-known Mojo and Python packages."
   ]
  },
  {
   "cell_type": "markdown",
   "metadata": {},
   "source": [
    "Although the Mojo standard library implements all or most of the elementary functions found in Specials, we have decided to implement them in the package as a matter of priority. For us, **Accuracy `>` Performance**: when forced to choose between FLOPS and numerical accuracy, we prefer numerical accuracy."
   ]
  },
  {
   "cell_type": "markdown",
   "metadata": {},
   "source": [
    "This prioritization is justified by the following fact: when these elementary functions do not exhibit near-perfect accuracy, minor errors can propagate and have a significant impact on the special functions that depend on them."
   ]
  },
  {
   "cell_type": "markdown",
   "metadata": {},
   "source": [
    "<div class=\"alert alert-block alert-info\">Whenever possible, we parallelize the application of elementary functions to tensors in Mojo. To force sequential execution, set the <code>force_sequential</code> variable to <code>True</code>.</div>"
   ]
  },
  {
   "cell_type": "code",
   "execution_count": 1,
   "metadata": {},
   "outputs": [],
   "source": [
    "# Option to force sequential execution in Mojo for elementwise operations\n",
    "alias force_sequential = False\n"
   ]
  },
  {
   "cell_type": "markdown",
   "metadata": {},
   "source": [
    "## Table of Contents\n",
    "\n",
    "- Experimental Settings\n",
    "  * Domains\n",
    "  * Evaluation Metrics\n",
    "    - Accuracy\n",
    "    - Runtime Performance\n",
    "  * Packages and Auxiliary Functions\n",
    "- Experiment Results\n",
    "  * Exp\n",
    "  * Exp2\n",
    "  * Expm1\n",
    "  * Log\n",
    "  * Log1p\n",
    "- Appendix A: System information"
   ]
  },
  {
   "cell_type": "markdown",
   "metadata": {},
   "source": [
    "## Experimental Settings\n",
    "\n",
    "In this section, we outline the experimental settings. From the definition of domains to the metrics used for accuracy and runtime performance evaluation, these settings lay the foundation for an objective assessment."
   ]
  },
  {
   "cell_type": "markdown",
   "metadata": {},
   "source": [
    "### Domains"
   ]
  },
  {
   "cell_type": "markdown",
   "metadata": {},
   "source": [
    "For each elementary function, we uniformly sample 100,000 argument values from intervals of the form $[a_i, b_i]$, referred to as _domains_, where $a_i$ and $b_i$ are the minimum and maximum values of each domain, respectively."
   ]
  },
  {
   "cell_type": "code",
   "execution_count": 2,
   "metadata": {},
   "outputs": [],
   "source": [
    "# Sample size\n",
    "var num_samples = 100_000\n"
   ]
  },
  {
   "cell_type": "markdown",
   "metadata": {},
   "source": [
    "We repeat each experiment for single- and double-precision floating-point inputs (`float32` and `float64`)."
   ]
  },
  {
   "cell_type": "markdown",
   "metadata": {},
   "source": [
    "### Evaluation Metrics\n",
    "\n",
    "In this section, we present the metrics used for accuracy and runtime performance evaluation."
   ]
  },
  {
   "cell_type": "markdown",
   "metadata": {},
   "source": [
    "#### Accuracy"
   ]
  },
  {
   "cell_type": "markdown",
   "metadata": {},
   "source": [
    "To evaluate the accuracy of function implementations, we measure _error in ulps_. Ulp stands for _unit in the last place_. In this Jupyter notebook, we use the Kahan definition of $\\text{ulp}(y)$, where $y$ is an arbitrary real number:\n",
    "\n",
    "> $\\text{ulp}(y)$ is the gap between the two finite floating-point numbers nearest $y$, even if $y$ is not contained in that interval."
   ]
  },
  {
   "cell_type": "markdown",
   "metadata": {},
   "source": [
    "Let $\\hat{f}$ be an implementation of the mathematical function $f$. Given a representation $\\mathbb{T}$ with finite precision (e.g., `float32`) and an input $x \\in \\mathbb{T}$, the floating-point number $\\hat{y} \\equiv \\hat{f}(x)$ is an approximation of the real number $y \\equiv f(x)$. The error in ulps of $\\hat{y}$ relative to $y$, $E_{\\text{ulps}}(y, \\hat{y})$, is given by:\n",
    "\n",
    "$$E_{\\text{ulps}}(y, \\hat{y}) = \\frac{|y - \\hat{y}|}{\\text{ulp}(y)}.$$\n",
    "\n",
    "Ideally, this error is always less than 0.5 in round-to-nearest mode for any pair $(y, \\hat{y})$. In fact, this metric has the following interesting property (here we assume that $\\mathbb{T}$ is a binary floating-point representation):\n",
    "\n",
    "> $E_{\\text{ulps}}(\\hat{y}) < 0.5$ if, and only if, $\\hat{y} = \\text{RN}(y)$, where $\\text{RN}(\\cdot)$ is the round-to-nearest function."
   ]
  },
  {
   "cell_type": "markdown",
   "metadata": {},
   "source": [
    "The exact but unknown value $y$ is computed with high precision using the Python library [`mpmath`](https://mpmath.org/)."
   ]
  },
  {
   "cell_type": "markdown",
   "metadata": {},
   "source": [
    "To compare different implementations in terms of accuracy, we calculate the maximum and the root mean square (RMS) of the observed errors for each combination of implementation and domain, with lower values indicating higher accuracy."
   ]
  },
  {
   "cell_type": "markdown",
   "metadata": {},
   "source": [
    "#### Runtime Performance"
   ]
  },
  {
   "cell_type": "markdown",
   "metadata": {},
   "source": [
    "For runtime performance, we measure the execution time using the `benchmark` module in Mojo and a custom function based on the `timeit` module in Python."
   ]
  },
  {
   "cell_type": "markdown",
   "metadata": {},
   "source": [
    "We assess runtime performance by calculating the average execution time for each implementation-domain combination, with lower values denoting better performance."
   ]
  },
  {
   "cell_type": "markdown",
   "metadata": {},
   "source": [
    "### Packages and Auxiliary Functions\n",
    "\n",
    "In this section, we import packages and auxiliary functions essential for conducting our experiments and measuring results."
   ]
  },
  {
   "cell_type": "code",
   "execution_count": 3,
   "metadata": {},
   "outputs": [],
   "source": [
    "%%python\n",
    "\n",
    "import mpmath as mp\n",
    "import numpy as np\n"
   ]
  },
  {
   "cell_type": "code",
   "execution_count": 4,
   "metadata": {},
   "outputs": [],
   "source": [
    "import math\n",
    "from utils.static_tuple import StaticTuple\n",
    "\n",
    "import specials\n",
    "\n",
    "from test_utils.benchmark import run_experiment\n"
   ]
  },
  {
   "cell_type": "markdown",
   "metadata": {},
   "source": [
    "## Experiment Results\n",
    "\n",
    "In this section, we delve into the results of our experiments for each elementary function evaluated.\n"
   ]
  },
  {
   "cell_type": "markdown",
   "metadata": {},
   "source": [
    "### Exp\n",
    "\n",
    "This section shows the experiment results for `exp`, which computes the exponential of `x`."
   ]
  },
  {
   "cell_type": "code",
   "execution_count": 5,
   "metadata": {},
   "outputs": [],
   "source": [
    "%%python\n",
    "\n",
    "def numpy_exp(x):\n",
    "    \"\"\"Computes the exponential of a given array using NumPy.\"\"\"\n",
    "    return np.exp(x)\n",
    "\n",
    "\n",
    "def mpmath_exp(x):\n",
    "    \"\"\"Computes the exponential of a given array using mpmath.\"\"\"\n",
    "    def _mp_exp_impl(a):\n",
    "        with mp.workdps(50):\n",
    "            res = mp.exp(mp.mpf(a))\n",
    "        return mp.nstr(res, 40)\n",
    "\n",
    "    return np.frompyfunc(_mp_exp_impl, 1, 1)(x)\n"
   ]
  },
  {
   "cell_type": "code",
   "execution_count": 6,
   "metadata": {},
   "outputs": [
    {
     "name": "stdout",
     "output_type": "stream",
     "text": [
      "\n",
      "Experiment: Exp (float32)\n",
      "\n",
      "                               Maximum Error          RMS Error    Average Execution\n",
      "Domain        Solution       Observed (ulps)    Observed (ulps)         Time (msecs)\n",
      "------------  -----------  -----------------  -----------------  -------------------\n",
      "-1e-05,1e-05  Specials                 0.500              0.288                0.062\n",
      "              Mojo Stdlib              0.500              0.288                0.029\n",
      "              NumPy                    1.492              0.568                0.065\n",
      "------------  -----------  -----------------  -----------------  -------------------\n",
      "-1,1          Specials                 0.513              0.289                0.062\n",
      "              Mojo Stdlib              0.774              0.295                0.030\n",
      "              NumPy                    2.156              0.572                0.065\n",
      "------------  -----------  -----------------  -----------------  -------------------\n",
      "-4,4          Specials                 0.513              0.289                0.065\n",
      "              Mojo Stdlib              0.835              0.306                0.029\n",
      "              NumPy                    2.287              0.580                0.065\n",
      "------------  -----------  -----------------  -----------------  -------------------\n",
      "-20,20        Specials                 0.515              0.289                0.065\n",
      "              Mojo Stdlib              1.374              0.490                0.029\n",
      "              NumPy                    2.305              0.579                0.065\n",
      "------------  -----------  -----------------  -----------------  -------------------\n",
      "-87,87        Specials                 0.515              0.289                0.066\n",
      "              Mojo Stdlib              4.376              1.729                0.030\n",
      "              NumPy                    2.293              0.579                0.070\n"
     ]
    }
   ],
   "source": [
    "run_experiment[\n",
    "    num_domains=5,\n",
    "    specials_func = specials.exp,\n",
    "    mojo_func = math.exp,\n",
    "    type = DType.float32,\n",
    "    force_sequential=force_sequential,\n",
    "](\n",
    "    experiment_name=\"Exp\",\n",
    "    num_samples=num_samples,\n",
    "    min_values=StaticTuple[Float32, 5](-1e-5, -1.0, -4.0, -20.0, -87.0),\n",
    "    max_values=StaticTuple[Float32, 5](1e-5, 1.0, 4.0, 20.0, 87.0),\n",
    "    truth_func=mpmath_exp,\n",
    "    python_func=numpy_exp,\n",
    "    python_func_name=\"NumPy\",\n",
    ")\n"
   ]
  },
  {
   "cell_type": "code",
   "execution_count": 7,
   "metadata": {},
   "outputs": [
    {
     "name": "stdout",
     "output_type": "stream",
     "text": [
      "\n",
      "Experiment: Exp (float64)\n",
      "\n",
      "                               Maximum Error          RMS Error    Average Execution\n",
      "Domain        Solution       Observed (ulps)    Observed (ulps)         Time (msecs)\n",
      "------------  -----------  -----------------  -----------------  -------------------\n",
      "-1e-14,1e-14  Specials                 0.500              0.289                0.132\n",
      "              Mojo Stdlib              0.500              0.289                0.079\n",
      "              NumPy                    0.500              0.289                0.285\n",
      "------------  -----------  -----------------  -----------------  -------------------\n",
      "-1,1          Specials                 0.516              0.289                0.125\n",
      "              Mojo Stdlib          2,543.586          1,512.896                0.072\n",
      "              NumPy                    0.504              0.289                0.271\n",
      "------------  -----------  -----------------  -----------------  -------------------\n",
      "-8,8          Specials                 0.516              0.288                0.125\n",
      "              Mojo Stdlib         27,974.306         12,462.503                0.076\n",
      "              NumPy                    0.503              0.288                0.275\n",
      "------------  -----------  -----------------  -----------------  -------------------\n",
      "-80,80        Specials                 0.513              0.289                0.125\n",
      "              Mojo Stdlib        292,047.667        124,711.614                0.068\n",
      "              NumPy                    0.505              0.289                0.278\n",
      "------------  -----------  -----------------  -----------------  -------------------\n",
      "-708,708      Specials                 0.515              0.289                0.136\n",
      "              Mojo Stdlib      2,589,813.709      1,104,325.643                0.079\n",
      "              NumPy                    0.505              0.289                0.641\n"
     ]
    }
   ],
   "source": [
    "run_experiment[\n",
    "    num_domains=5,\n",
    "    specials_func = specials.exp,\n",
    "    mojo_func = math.exp,\n",
    "    type = DType.float64,\n",
    "    force_sequential=force_sequential,\n",
    "](\n",
    "    experiment_name=\"Exp\",\n",
    "    num_samples=num_samples,\n",
    "    min_values=StaticTuple[Float64, 5](-1e-14, -1.0, -8.0, -80.0, -708.0),\n",
    "    max_values=StaticTuple[Float64, 5](1e-14, 1.0, 8.0, 80.0, 708.0),\n",
    "    truth_func=mpmath_exp,\n",
    "    python_func=numpy_exp,\n",
    "    python_func_name=\"NumPy\",\n",
    ")\n"
   ]
  },
  {
   "cell_type": "markdown",
   "metadata": {},
   "source": [
    "### Exp2\n",
    "\n",
    "This section shows the experiment results for `exp2`, which computes the base-2 exponential of `x`."
   ]
  },
  {
   "cell_type": "code",
   "execution_count": 8,
   "metadata": {},
   "outputs": [],
   "source": [
    "%%python\n",
    "\n",
    "def numpy_exp2(x):\n",
    "    \"\"\"Computes the base-2 exponential of a given array using NumPy.\"\"\"\n",
    "    return np.exp2(x)\n",
    "\n",
    "\n",
    "def mpmath_exp2(x):\n",
    "    \"\"\"Computes the base-2 exponential of a given array using mpmath.\"\"\"\n",
    "    def _mp_exp2_impl(a):\n",
    "        with mp.workdps(50):\n",
    "            res = mp.power(mp.mpf(2), mp.mpf(a))\n",
    "        return mp.nstr(res, 40)\n",
    "\n",
    "    return np.frompyfunc(_mp_exp2_impl, 1, 1)(x)\n"
   ]
  },
  {
   "cell_type": "code",
   "execution_count": 9,
   "metadata": {},
   "outputs": [
    {
     "name": "stdout",
     "output_type": "stream",
     "text": [
      "\n",
      "Experiment: Exp2 (float32)\n",
      "\n",
      "                               Maximum Error          RMS Error    Average Execution\n",
      "Domain        Solution       Observed (ulps)    Observed (ulps)         Time (msecs)\n",
      "------------  -----------  -----------------  -----------------  -------------------\n",
      "-1e-05,1e-05  Specials                 0.500              0.289                0.066\n",
      "              Mojo Stdlib              0.500              0.289                0.029\n",
      "              NumPy                    0.500              0.289                0.238\n",
      "------------  -----------  -----------------  -----------------  -------------------\n",
      "-1,1          Specials                 0.519              0.289                0.067\n",
      "              Mojo Stdlib            115.593             46.483                0.029\n",
      "              NumPy                    0.501              0.289                0.239\n",
      "------------  -----------  -----------------  -----------------  -------------------\n",
      "-5,5          Specials                 0.515              0.289                0.067\n",
      "              Mojo Stdlib            115.639             46.671                0.029\n",
      "              NumPy                    0.501              0.288                0.242\n",
      "------------  -----------  -----------------  -----------------  -------------------\n",
      "-25,25        Specials                 0.518              0.288                0.066\n",
      "              Mojo Stdlib            115.639             46.554                0.027\n",
      "              NumPy                    0.501              0.288                0.241\n",
      "------------  -----------  -----------------  -----------------  -------------------\n",
      "-126,127      Specials                 0.517              0.288                0.068\n",
      "              Mojo Stdlib      8,373,886.471        281,476.388                0.029\n",
      "              NumPy                    0.501              0.288                0.244\n"
     ]
    }
   ],
   "source": [
    "run_experiment[\n",
    "    num_domains=5,\n",
    "    specials_func = specials.exp2,\n",
    "    mojo_func = math.exp2,\n",
    "    type = DType.float32,\n",
    "    force_sequential=force_sequential,\n",
    "](\n",
    "    experiment_name=\"Exp2\",\n",
    "    num_samples=num_samples,\n",
    "    min_values=StaticTuple[Float32, 5](-1e-5, -1.0, -5.0, -25.0, -126.0),\n",
    "    max_values=StaticTuple[Float32, 5](1e-5, 1.0, 5.0, 25.0, 127.0),\n",
    "    truth_func=mpmath_exp2,\n",
    "    python_func=numpy_exp2,\n",
    "    python_func_name=\"NumPy\",\n",
    ")\n"
   ]
  },
  {
   "cell_type": "code",
   "execution_count": 10,
   "metadata": {},
   "outputs": [
    {
     "name": "stdout",
     "output_type": "stream",
     "text": [
      "\n",
      "Experiment: Exp2 (float64)\n",
      "\n",
      "                               Maximum Error          RMS Error    Average Execution\n",
      "Domain        Solution       Observed (ulps)    Observed (ulps)         Time (msecs)\n",
      "------------  -----------  -----------------  -----------------  -------------------\n",
      "-1e-14,1e-14  Specials                 0.500              0.289                0.122\n",
      "              Mojo Stdlib              0.500              0.289                0.060\n",
      "              NumPy                    0.500              0.289                0.301\n",
      "------------  -----------  -----------------  -----------------  -------------------\n",
      "-1,1          Specials                 0.518              0.289                0.124\n",
      "              Mojo Stdlib           6.19e+10           2.50e+10                0.060\n",
      "              NumPy                    0.507              0.289                0.283\n",
      "------------  -----------  -----------------  -----------------  -------------------\n",
      "-10,10        Specials                 0.520              0.289                0.128\n",
      "              Mojo Stdlib           6.19e+10           2.49e+10                0.061\n",
      "              NumPy                    0.506              0.289                0.274\n",
      "------------  -----------  -----------------  -----------------  -------------------\n",
      "-100,100      Specials                 0.517              0.289                0.127\n",
      "              Mojo Stdlib           6.20e+10           2.51e+10                0.060\n",
      "              NumPy                    0.505              0.289                0.274\n",
      "------------  -----------  -----------------  -----------------  -------------------\n",
      "-1022,1023    Specials                 0.519              0.288                0.124\n",
      "              Mojo Stdlib          2.38e+285          6.16e+283                0.059\n",
      "              NumPy                    0.505              0.288                0.706\n"
     ]
    }
   ],
   "source": [
    "run_experiment[\n",
    "    num_domains=5,\n",
    "    specials_func = specials.exp2,\n",
    "    mojo_func = math.exp2,\n",
    "    type = DType.float64,\n",
    "    force_sequential=force_sequential,\n",
    "](\n",
    "    experiment_name=\"Exp2\",\n",
    "    num_samples=num_samples,\n",
    "    min_values=StaticTuple[Float64, 5](-1e-14, -1.0, -10.0, -100.0, -1022.0),\n",
    "    max_values=StaticTuple[Float64, 5](1e-14, 1.0, 10.0, 100.0, 1023.0),\n",
    "    truth_func=mpmath_exp2,\n",
    "    python_func=numpy_exp2,\n",
    "    python_func_name=\"NumPy\",\n",
    ")\n"
   ]
  },
  {
   "cell_type": "markdown",
   "metadata": {},
   "source": [
    "### Expm1\n",
    "\n",
    "This section shows the experiment results for `expm1`, which computes `exp(x) - 1` in a numerically stable way."
   ]
  },
  {
   "cell_type": "code",
   "execution_count": 11,
   "metadata": {},
   "outputs": [],
   "source": [
    "%%python\n",
    "\n",
    "def numpy_expm1(x):\n",
    "    \"\"\"Computes `exp(x) - 1` for all elements in the given array using NumPy.\"\"\"\n",
    "    return np.expm1(x)\n",
    "\n",
    "\n",
    "def mpmath_expm1(x):\n",
    "    \"\"\"Computes `exp(x) - 1` for all elements in the given array using mpmath.\"\"\"\n",
    "    def _mp_expm1_impl(a):\n",
    "        with mp.workdps(50):\n",
    "            res = mp.expm1(mp.mpf(a))\n",
    "        return mp.nstr(res, 40)\n",
    "\n",
    "    return np.frompyfunc(_mp_expm1_impl, 1, 1)(x)\n"
   ]
  },
  {
   "cell_type": "code",
   "execution_count": 12,
   "metadata": {},
   "outputs": [
    {
     "name": "stdout",
     "output_type": "stream",
     "text": [
      "\n",
      "Experiment: Expm1 (float32)\n",
      "\n",
      "                               Maximum Error          RMS Error    Average Execution\n",
      "Domain        Solution       Observed (ulps)    Observed (ulps)         Time (msecs)\n",
      "------------  -----------  -----------------  -----------------  -------------------\n",
      "-1e-05,1e-05  Specials                 0.500              0.288                0.041\n",
      "              Mojo Stdlib              0.500              0.288                0.102\n",
      "              NumPy                    0.500              0.288                0.276\n",
      "------------  -----------  -----------------  -----------------  -------------------\n",
      "-1,1          Specials                 0.537              0.289                0.091\n",
      "              Mojo Stdlib              0.778              0.311                0.156\n",
      "              NumPy                    0.778              0.311                0.735\n",
      "------------  -----------  -----------------  -----------------  -------------------\n",
      "-4,4          Specials                 0.544              0.289                0.086\n",
      "              Mojo Stdlib              0.756              0.311                0.201\n",
      "              NumPy                    0.756              0.311                0.864\n",
      "------------  -----------  -----------------  -----------------  -------------------\n",
      "-20,20        Specials                 0.522              0.285                0.081\n",
      "              Mojo Stdlib              0.751              0.299                0.210\n",
      "              NumPy                    0.751              0.299                0.867\n",
      "------------  -----------  -----------------  -----------------  -------------------\n",
      "-87,87        Specials                 0.513              0.226                0.076\n",
      "              Mojo Stdlib              0.751              0.241                0.181\n",
      "              NumPy                    0.751              0.241                0.810\n"
     ]
    }
   ],
   "source": [
    "run_experiment[\n",
    "    num_domains=5,\n",
    "    specials_func = specials.expm1,\n",
    "    mojo_func = math.expm1,\n",
    "    type = DType.float32,\n",
    "    force_sequential=force_sequential,\n",
    "](\n",
    "    experiment_name=\"Expm1\",\n",
    "    num_samples=num_samples,\n",
    "    min_values=StaticTuple[Float32, 5](-1e-5, -1.0, -4.0, -20.0, -87.0),\n",
    "    max_values=StaticTuple[Float32, 5](1e-5, 1.0, 4.0, 20.0, 87.0),\n",
    "    truth_func=mpmath_expm1,\n",
    "    python_func=numpy_expm1,\n",
    "    python_func_name=\"NumPy\",\n",
    ")\n"
   ]
  },
  {
   "cell_type": "code",
   "execution_count": 13,
   "metadata": {},
   "outputs": [
    {
     "name": "stdout",
     "output_type": "stream",
     "text": [
      "\n",
      "Experiment: Expm1 (float64)\n",
      "\n",
      "                               Maximum Error          RMS Error    Average Execution\n",
      "Domain        Solution       Observed (ulps)    Observed (ulps)         Time (msecs)\n",
      "------------  -----------  -----------------  -----------------  -------------------\n",
      "-1e-14,1e-14  Specials                 0.500              0.288                0.089\n",
      "              Mojo Stdlib    268,433,631.186    154,985,206.842                0.089\n",
      "              NumPy                    0.500              0.288                0.259\n",
      "------------  -----------  -----------------  -----------------  -------------------\n",
      "-1,1          Specials                 0.540              0.289                0.183\n",
      "              Mojo Stdlib    827,270,477.795    237,800,487.767                0.191\n",
      "              NumPy                    0.790              0.311                0.803\n",
      "------------  -----------  -----------------  -----------------  -------------------\n",
      "-8,8          Specials                 0.535              0.288                0.170\n",
      "              Mojo Stdlib           2.36e+09    522,695,798.586                0.239\n",
      "              NumPy                    0.814              0.305                0.903\n",
      "------------  -----------  -----------------  -----------------  -------------------\n",
      "-80,80        Specials                 0.536              0.249                0.159\n",
      "              Mojo Stdlib           3.45e+10           5.77e+09                0.207\n",
      "              NumPy                    0.741              0.262                1.022\n",
      "------------  -----------  -----------------  -----------------  -------------------\n",
      "-708,708      Specials                 0.511              0.210                0.161\n",
      "              Mojo Stdlib                inf                inf                0.145\n",
      "              NumPy                    0.751              0.226                0.663\n"
     ]
    }
   ],
   "source": [
    "run_experiment[\n",
    "    num_domains=5,\n",
    "    specials_func = specials.expm1,\n",
    "    mojo_func = math.expm1,\n",
    "    type = DType.float64,\n",
    "    force_sequential=force_sequential,\n",
    "](\n",
    "    experiment_name=\"Expm1\",\n",
    "    num_samples=num_samples,\n",
    "    min_values=StaticTuple[Float64, 5](-1e-14, -1.0, -8.0, -80.0, -708.0),\n",
    "    max_values=StaticTuple[Float64, 5](1e-14, 1.0, 8.0, 80.0, 708.0),\n",
    "    truth_func=mpmath_expm1,\n",
    "    python_func=numpy_expm1,\n",
    "    python_func_name=\"NumPy\",\n",
    ")\n"
   ]
  },
  {
   "cell_type": "markdown",
   "metadata": {},
   "source": [
    "### Log\n",
    "\n",
    "This section shows the experiment results for `log`, which computes the natural logarithm of `x`."
   ]
  },
  {
   "cell_type": "code",
   "execution_count": 14,
   "metadata": {},
   "outputs": [],
   "source": [
    "%%python\n",
    "\n",
    "def numpy_log(x):\n",
    "    \"\"\"Computes the logarithm for all elements in the given array using NumPy.\"\"\"\n",
    "    return np.log(x)\n",
    "\n",
    "\n",
    "def mpmath_log(x):\n",
    "    \"\"\"Computes the logarithm for all elements in the given array using mpmath.\"\"\"\n",
    "    def _mp_log_impl(a):\n",
    "        with mp.workdps(50):\n",
    "            res = mp.log(mp.mpf(a))\n",
    "        return mp.nstr(res, 40)\n",
    "\n",
    "    return np.frompyfunc(_mp_log_impl, 1, 1)(x)\n"
   ]
  },
  {
   "cell_type": "code",
   "execution_count": 15,
   "metadata": {},
   "outputs": [],
   "source": [
    "var xone_inf: Float32 = 0.9394130628134757861197108246223050845246808905494418220094926620\n",
    "var xone_sup: Float32 = 1.0644944589178594295633905946428896731007254436493533015193075106\n"
   ]
  },
  {
   "cell_type": "code",
   "execution_count": 16,
   "metadata": {},
   "outputs": [
    {
     "name": "stdout",
     "output_type": "stream",
     "text": [
      "\n",
      "Experiment: Log (float32)\n",
      "\n",
      "                              Maximum Error          RMS Error    Average Execution\n",
      "Domain       Solution       Observed (ulps)    Observed (ulps)         Time (msecs)\n",
      "-----------  -----------  -----------------  -----------------  -------------------\n",
      "2e-38,0.9    Specials                 0.527              0.289                0.110\n",
      "             Mojo Stdlib              0.832              0.307                0.034\n",
      "             NumPy                    2.964              0.465                0.094\n",
      "-----------  -----------  -----------------  -----------------  -------------------\n",
      "0.9,1.1      Specials                 0.501              0.289                0.048\n",
      "             Mojo Stdlib              0.546              0.289                0.038\n",
      "             NumPy                    2.810              0.643                0.093\n",
      "-----------  -----------  -----------------  -----------------  -------------------\n",
      "1.1,5        Specials                 0.535              0.288                0.108\n",
      "             Mojo Stdlib              0.818              0.306                0.036\n",
      "             NumPy                    2.410              0.380                0.093\n",
      "-----------  -----------  -----------------  -----------------  -------------------\n",
      "5,100        Specials                 0.501              0.289                0.105\n",
      "             Mojo Stdlib              0.684              0.294                0.037\n",
      "             NumPy                    0.951              0.296                0.094\n",
      "-----------  -----------  -----------------  -----------------  -------------------\n",
      "100,1e+20    Specials                 0.500              0.288                0.107\n",
      "             Mojo Stdlib              0.537              0.290                0.037\n",
      "             NumPy                    0.544              0.290                0.094\n",
      "-----------  -----------  -----------------  -----------------  -------------------\n",
      "1e+20,3e+38  Specials                 0.500              0.289                0.107\n",
      "             Mojo Stdlib              0.534              0.290                0.035\n",
      "             NumPy                    0.539              0.290                0.094\n"
     ]
    }
   ],
   "source": [
    "run_experiment[\n",
    "    num_domains=6,\n",
    "    specials_func = specials.log,\n",
    "    mojo_func = math.log,\n",
    "    type = DType.float32,\n",
    "    force_sequential=force_sequential,\n",
    "](\n",
    "    experiment_name=\"Log\",\n",
    "    num_samples=num_samples,\n",
    "    min_values=StaticTuple[Float32, 6](\n",
    "        2e-38, xone_inf, xone_sup, 5.0, 100.0, 1e20\n",
    "    ),\n",
    "    max_values=StaticTuple[Float32, 6](\n",
    "        xone_inf, xone_sup, 5.0, 100.0, 1e20, 3e38\n",
    "    ),\n",
    "    truth_func=mpmath_log,\n",
    "    python_func=numpy_log,\n",
    "    python_func_name=\"NumPy\",\n",
    ")\n"
   ]
  },
  {
   "cell_type": "code",
   "execution_count": 17,
   "metadata": {},
   "outputs": [],
   "source": [
    "var xone_inf: Float64 = 0.9394130628134757861197108246223050845246808905494418220094926620\n",
    "var xone_sup: Float64 = 1.0644944589178594295633905946428896731007254436493533015193075106\n"
   ]
  },
  {
   "cell_type": "code",
   "execution_count": 18,
   "metadata": {},
   "outputs": [
    {
     "name": "stdout",
     "output_type": "stream",
     "text": [
      "\n",
      "Experiment: Log (float64)\n",
      "\n",
      "                                Maximum Error          RMS Error    Average Execution\n",
      "Domain         Solution       Observed (ulps)    Observed (ulps)         Time (msecs)\n",
      "-------------  -----------  -----------------  -----------------  -------------------\n",
      "3e-308,0.9     Specials                 0.537              0.289                0.315\n",
      "               Mojo Stdlib     21,116,084.236      3,592,310.488                0.076\n",
      "               NumPy                    0.514              0.289                0.267\n",
      "-------------  -----------  -----------------  -----------------  -------------------\n",
      "0.9,1.1        Specials                 0.504              0.289                0.100\n",
      "               Mojo Stdlib        139,420.868         76,557.502                0.076\n",
      "               NumPy                    0.503              0.289                0.255\n",
      "-------------  -----------  -----------------  -----------------  -------------------\n",
      "1.1,5          Specials                 0.515              0.289                0.322\n",
      "               Mojo Stdlib     21,162,275.877      2,694,771.465                0.075\n",
      "               NumPy                    0.513              0.289                0.259\n",
      "-------------  -----------  -----------------  -----------------  -------------------\n",
      "5,100          Specials                 0.501              0.290                0.310\n",
      "               Mojo Stdlib      5,085,044.079        532,598.836                0.070\n",
      "               NumPy                    0.500              0.290                0.267\n",
      "-------------  -----------  -----------------  -----------------  -------------------\n",
      "100,1e+155     Specials                 0.500              0.289                0.306\n",
      "               Mojo Stdlib         20,692.548          4,511.403                0.072\n",
      "               NumPy                    0.500              0.289                0.260\n",
      "-------------  -----------  -----------------  -----------------  -------------------\n",
      "1e+155,1e+308  Specials                 0.500              0.289                0.321\n",
      "               Mojo Stdlib         10,335.963          2,065.868                0.080\n",
      "               NumPy                    0.500              0.289                0.254\n"
     ]
    }
   ],
   "source": [
    "run_experiment[\n",
    "    num_domains=6,\n",
    "    specials_func = specials.log,\n",
    "    mojo_func = math.log,\n",
    "    type = DType.float64,\n",
    "    force_sequential=force_sequential,\n",
    "](\n",
    "    experiment_name=\"Log\",\n",
    "    num_samples=num_samples,\n",
    "    min_values=StaticTuple[Float64, 6](\n",
    "        3e-308, xone_inf, xone_sup, 5.0, 100.0, 1e155\n",
    "    ),\n",
    "    max_values=StaticTuple[Float64, 6](\n",
    "        xone_inf, xone_sup, 5.0, 100.0, 1e155, 1e308\n",
    "    ),\n",
    "    truth_func=mpmath_log,\n",
    "    python_func=numpy_log,\n",
    "    python_func_name=\"NumPy\",\n",
    ")\n"
   ]
  },
  {
   "cell_type": "markdown",
   "metadata": {},
   "source": [
    "### Log1p\n",
    "\n",
    "This section shows the experiment results for `log1p`, which computes `log(1 + x)` in a numerically stable way."
   ]
  },
  {
   "cell_type": "code",
   "execution_count": 19,
   "metadata": {},
   "outputs": [],
   "source": [
    "%%python\n",
    "\n",
    "def numpy_log1p(x):\n",
    "    \"\"\"Computes `log(1 + x)` for all elements in the given array using NumPy.\"\"\"\n",
    "    return np.log1p(x)\n",
    "\n",
    "\n",
    "def mpmath_log1p(x):\n",
    "    \"\"\"Computes `log(1 + x)` for all elements in the given array using mpmath.\"\"\"\n",
    "    def _mp_log1p_impl(a):\n",
    "        with mp.workdps(50):\n",
    "            res = mp.log1p(mp.mpf(a))\n",
    "        return mp.nstr(res, 40)\n",
    "\n",
    "    return np.frompyfunc(_mp_log1p_impl, 1, 1)(x)\n"
   ]
  },
  {
   "cell_type": "code",
   "execution_count": 20,
   "metadata": {},
   "outputs": [],
   "source": [
    "var xsml_inf: Float32 = -0.060586937186524213880289175377694915475319109450558177990507337\n",
    "var xsml_sup: Float32 = 0.0644944589178594295633905946428896731007254436493533015193075106\n"
   ]
  },
  {
   "cell_type": "code",
   "execution_count": 21,
   "metadata": {},
   "outputs": [
    {
     "name": "stdout",
     "output_type": "stream",
     "text": [
      "\n",
      "Experiment: Log1p (float32)\n",
      "\n",
      "                               Maximum Error          RMS Error    Average Execution\n",
      "Domain        Solution       Observed (ulps)    Observed (ulps)         Time (msecs)\n",
      "------------  -----------  -----------------  -----------------  -------------------\n",
      "-1e-05,1e-05  Specials                 0.500              0.288                0.045\n",
      "              Mojo Stdlib              0.500              0.288                0.105\n",
      "              NumPy                    0.500              0.288                0.282\n",
      "------------  -----------  -----------------  -----------------  -------------------\n",
      "-0.1,0.1      Specials                 0.501              0.288                0.041\n",
      "              Mojo Stdlib              0.549              0.289                0.103\n",
      "              NumPy                    0.549              0.289                0.283\n",
      "------------  -----------  -----------------  -----------------  -------------------\n",
      "-1,1          Specials                 0.536              0.289                0.110\n",
      "              Mojo Stdlib              0.828              0.305                0.186\n",
      "              NumPy                    0.828              0.305                0.830\n",
      "------------  -----------  -----------------  -----------------  -------------------\n",
      "1,5           Specials                 0.504              0.288                0.096\n",
      "              Mojo Stdlib              0.752              0.308                0.166\n",
      "              NumPy                    0.752              0.308                0.665\n",
      "------------  -----------  -----------------  -----------------  -------------------\n",
      "5,1e+07       Specials                 0.500              0.289                0.101\n",
      "              Mojo Stdlib              0.522              0.289                0.179\n",
      "              NumPy                    0.522              0.289                0.728\n",
      "------------  -----------  -----------------  -----------------  -------------------\n",
      "1e+07,3e+38   Specials                 0.500              0.289                0.106\n",
      "              Mojo Stdlib              0.502              0.289                0.156\n",
      "              NumPy                    0.502              0.289                0.640\n"
     ]
    }
   ],
   "source": [
    "run_experiment[\n",
    "    num_domains=6,\n",
    "    specials_func = specials.log1p,\n",
    "    mojo_func = math.log1p,\n",
    "    type = DType.float32,\n",
    "    force_sequential=force_sequential,\n",
    "](\n",
    "    experiment_name=\"Log1p\",\n",
    "    num_samples=num_samples,\n",
    "    min_values=StaticTuple[Float32, 6](-1e-5, xsml_inf, -1.0, 1.0, 5.0, 1e7),\n",
    "    max_values=StaticTuple[Float32, 6](1e-5, xsml_sup, 1.0, 5.0, 1e7, 3e38),\n",
    "    truth_func=mpmath_log1p,\n",
    "    python_func=numpy_log1p,\n",
    "    python_func_name=\"NumPy\",\n",
    ")\n"
   ]
  },
  {
   "cell_type": "code",
   "execution_count": 22,
   "metadata": {},
   "outputs": [],
   "source": [
    "var xsml_inf: Float64 = -0.060586937186524213880289175377694915475319109450558177990507337\n",
    "var xsml_sup: Float64 = 0.0644944589178594295633905946428896731007254436493533015193075106\n"
   ]
  },
  {
   "cell_type": "code",
   "execution_count": 23,
   "metadata": {},
   "outputs": [
    {
     "name": "stdout",
     "output_type": "stream",
     "text": [
      "\n",
      "Experiment: Log1p (float64)\n",
      "\n",
      "                               Maximum Error          RMS Error    Average Execution\n",
      "Domain        Solution       Observed (ulps)    Observed (ulps)         Time (msecs)\n",
      "------------  -----------  -----------------  -----------------  -------------------\n",
      "-1e-14,1e-14  Specials                 0.500              0.288                0.093\n",
      "              Mojo Stdlib    268,433,632.814    154,985,206.968                0.093\n",
      "              NumPy                    0.500              0.288                0.141\n",
      "------------  -----------  -----------------  -----------------  -------------------\n",
      "-0.1,0.1      Specials                 0.506              0.289                0.093\n",
      "              Mojo Stdlib    773,935,953.441    222,140,708.705                0.135\n",
      "              NumPy                    0.549              0.289                0.279\n",
      "------------  -----------  -----------------  -----------------  -------------------\n",
      "-1,1          Specials                 0.530              0.288                0.257\n",
      "              Mojo Stdlib           4.05e+11           1.74e+09                0.215\n",
      "              NumPy                    0.810              0.303                0.903\n",
      "------------  -----------  -----------------  -----------------  -------------------\n",
      "1,5           Specials                 0.504              0.289                0.264\n",
      "              Mojo Stdlib    578,898,447.369    192,703,706.680                0.191\n",
      "              NumPy                    0.747              0.308                0.696\n",
      "------------  -----------  -----------------  -----------------  -------------------\n",
      "5,1e+15       Specials                 0.500              0.289                0.260\n",
      "              Mojo Stdlib    283,640,065.550    155,268,882.435                0.207\n",
      "              NumPy                    0.508              0.289                0.760\n",
      "------------  -----------  -----------------  -----------------  -------------------\n",
      "1e+15,1e+308  Specials                 0.500              0.289                0.248\n",
      "              Mojo Stdlib                inf                inf                0.072\n",
      "              NumPy                    0.500              0.289                0.689\n"
     ]
    }
   ],
   "source": [
    "run_experiment[\n",
    "    num_domains=6,\n",
    "    specials_func = specials.log1p,\n",
    "    mojo_func = math.log1p,\n",
    "    type = DType.float64,\n",
    "    force_sequential=force_sequential,\n",
    "](\n",
    "    experiment_name=\"Log1p\",\n",
    "    num_samples=num_samples,\n",
    "    min_values=StaticTuple[Float64, 6](-1e-14, xsml_inf, -1.0, 1.0, 5.0, 1e15),\n",
    "    max_values=StaticTuple[Float64, 6](1e-14, xsml_sup, 1.0, 5.0, 1e15, 1e308),\n",
    "    truth_func=mpmath_log1p,\n",
    "    python_func=numpy_log1p,\n",
    "    python_func_name=\"NumPy\",\n",
    ")\n"
   ]
  },
  {
   "cell_type": "markdown",
   "metadata": {},
   "source": [
    "## Appendix: System information"
   ]
  },
  {
   "cell_type": "markdown",
   "metadata": {},
   "source": [
    "Below, information about the system used to run the experiment."
   ]
  },
  {
   "cell_type": "code",
   "execution_count": 24,
   "metadata": {},
   "outputs": [
    {
     "name": "stdout",
     "output_type": "stream",
     "text": [
      "modular 0.8.0 (39a426b5)\n",
      "mojo 24.4.0 (2cb57382)\n"
     ]
    }
   ],
   "source": [
    "%%python\n",
    "\n",
    "import subprocess\n",
    "\n",
    "subprocess.run([\"modular\", \"-v\"])\n",
    "subprocess.run([\"mojo\", \"-v\"])\n"
   ]
  },
  {
   "cell_type": "code",
   "execution_count": 25,
   "metadata": {},
   "outputs": [
    {
     "name": "stdout",
     "output_type": "stream",
     "text": [
      "System Information\n",
      "  OS                   : linux\n",
      "  CPU                  : alderlake\n",
      "  Arch                 : x86_64-unknown-linux-gnu\n",
      "  Num Physical Cores   : 8\n",
      "  CPU Features         : sse4 avx avx2 avx_vnni\n"
     ]
    }
   ],
   "source": [
    "from sys.info import (\n",
    "    os_is_linux,\n",
    "    os_is_windows,\n",
    "    os_is_macos,\n",
    "    has_sse4,\n",
    "    has_avx,\n",
    "    has_avx2,\n",
    "    has_avx512f,\n",
    "    has_vnni,\n",
    "    has_neon,\n",
    "    is_apple_m1,\n",
    "    has_intel_amx,\n",
    "    num_physical_cores,\n",
    "    _current_target,\n",
    "    _current_cpu,\n",
    "    _triple_attr,\n",
    ")\n",
    "\n",
    "var os: StringLiteral\n",
    "if os_is_linux():\n",
    "    os = \"linux\"\n",
    "elif os_is_macos():\n",
    "    os = \"macOS\"\n",
    "else:\n",
    "    os = \"windows\"\n",
    "\n",
    "var cpu = String(_current_cpu())\n",
    "var arch = String(_triple_attr())\n",
    "\n",
    "var cpu_features = String(\"\")\n",
    "if has_sse4():\n",
    "    cpu_features += \" sse4\"\n",
    "if has_avx():\n",
    "    cpu_features += \" avx\"\n",
    "if has_avx2():\n",
    "    cpu_features += \" avx2\"\n",
    "if has_avx512f():\n",
    "    cpu_features += \" avx512f\"\n",
    "if has_vnni():\n",
    "    if has_avx512f():\n",
    "        cpu_features += \" avx512_vnni\"\n",
    "    else:\n",
    "        cpu_features += \" avx_vnni\"\n",
    "if has_intel_amx():\n",
    "    cpu_features += \" intel_amx\"\n",
    "if has_neon():\n",
    "    cpu_features += \" neon\"\n",
    "if is_apple_m1():\n",
    "    cpu_features += \" apple_m1\"\n",
    "\n",
    "if len(cpu_features) > 0:\n",
    "    cpu_features = cpu_features[1:]\n",
    "\n",
    "print(\"System Information\")\n",
    "print(\"  OS                   :\", os)\n",
    "print(\"  CPU                  :\", cpu)\n",
    "print(\"  Arch                 :\", arch)\n",
    "print(\"  Num Physical Cores   :\", num_physical_cores())\n",
    "print(\"  CPU Features         :\", cpu_features)\n"
   ]
  },
  {
   "cell_type": "code",
   "execution_count": 26,
   "metadata": {},
   "outputs": [
    {
     "name": "stdout",
     "output_type": "stream",
     "text": [
      "mpmath version: 1.3.0\n",
      "NumPy version: 1.26.4\n",
      "Python version: 3.11.9 | packaged by conda-forge | (main, Apr 19 2024, 18:53:30) [GCC 12.3.0]\n",
      "Tabulate version: 0.9.0\n"
     ]
    }
   ],
   "source": [
    "%%python\n",
    "import pkg_resources\n",
    "import sys\n",
    "\n",
    "def get_version(package):\n",
    "    \"\"\"Returns the version of a Python package.\"\"\"\n",
    "    return pkg_resources.get_distribution(package).version\n",
    "\n",
    "print(\"mpmath version:\", mp.__version__)\n",
    "print(\"NumPy version:\", np.__version__)\n",
    "print(\"Python version:\", sys.version)\n",
    "print(\"Tabulate version:\", get_version(\"tabulate\"))\n"
   ]
  }
 ],
 "metadata": {
  "kernelspec": {
   "display_name": "Mojo",
   "language": "mojo",
   "name": "mojo-jupyter-kernel"
  },
  "language_info": {
   "codemirror_mode": {
    "name": "mojo"
   },
   "file_extension": ".mojo",
   "mimetype": "text/x-mojo",
   "name": "mojo"
  }
 },
 "nbformat": 4,
 "nbformat_minor": 4
}
