{
 "cells": [
  {
   "cell_type": "markdown",
   "metadata": {},
   "source": [
    "*Copyright 2024 The Specials Authors. Licensed under the Apache License, Version 2.0 (the \"License\").*"
   ]
  },
  {
   "cell_type": "markdown",
   "metadata": {},
   "source": [
    "_Some of the code in this file is adapted from:_\n",
    "\n",
    "_modularml/mojo_<br>\n",
    "_Copyright (c) 2023, Modular Inc._<br>\n",
    "_Licensed under the Apache License v2.0 with LLVM Exceptions._"
   ]
  },
  {
   "cell_type": "markdown",
   "metadata": {},
   "source": [
    "# Elementary Functions in Specials\n",
    "\n",
    "In this Jupyter notebook, we compare the implementations of elementary functions from the Specials package with those found in well-known Mojo and Python packages."
   ]
  },
  {
   "cell_type": "markdown",
   "metadata": {},
   "source": [
    "<div class=\"alert alert-block alert-info\">Whenever possible, we parallelize the application of elementary functions to tensors in Mojo. To force sequential execution, set the <code>force_sequential</code> variable to <code>True</code>.</div>"
   ]
  },
  {
   "cell_type": "code",
   "execution_count": 1,
   "metadata": {},
   "outputs": [],
   "source": [
    "# Option to force sequential execution in Mojo for elementwise operations\n",
    "alias force_sequential = False\n"
   ]
  },
  {
   "cell_type": "markdown",
   "metadata": {},
   "source": [
    "## Table of Contents\n",
    "\n",
    "- [Experimental Settings](#experimental-settings)\n",
    "  * [Domains](#domains)\n",
    "  * [Evaluation Metrics](#evaluation-metrics)\n",
    "    - [Accuracy](#accuracy)\n",
    "    - [Runtime Performance](#runtime-performance)\n",
    "  * [Packages and Auxiliary Functions](#packages-and-auxiliary-functions)\n",
    "- [Experiment Results](#experiment-results)\n",
    "  * [Exp](#exp)\n",
    "  * [Exp2](#exp2)\n",
    "  * [Expm1](#expm1)\n",
    "- [Appendix A: System information](#appendix-system-information)"
   ]
  },
  {
   "cell_type": "markdown",
   "metadata": {},
   "source": [
    "## Experimental Settings\n",
    "\n",
    "In this section, we outline the experimental settings. From the definition of domains to the metrics used for accuracy and runtime performance evaluation, these settings lay the foundation for an objective assessment."
   ]
  },
  {
   "cell_type": "markdown",
   "metadata": {},
   "source": [
    "### Domains"
   ]
  },
  {
   "cell_type": "markdown",
   "metadata": {},
   "source": [
    "For each elementary function, we uniformly sample 100,000 argument values from intervals of the form $[a_i, b_i]$, referred to as _domains_, where $a_i$ and $b_i$ are the minimum and maximum values of each domain, respectively."
   ]
  },
  {
   "cell_type": "code",
   "execution_count": 2,
   "metadata": {},
   "outputs": [],
   "source": [
    "# Sample size\n",
    "var num_samples = 100_000\n"
   ]
  },
  {
   "cell_type": "markdown",
   "metadata": {},
   "source": [
    "We repeat each experiment for single- and double-precision floating-point inputs (`float32` and `float64`)."
   ]
  },
  {
   "cell_type": "markdown",
   "metadata": {},
   "source": [
    "### Evaluation Metrics\n",
    "\n",
    "In this section, we present the metrics used for accuracy and runtime performance evaluation."
   ]
  },
  {
   "cell_type": "markdown",
   "metadata": {},
   "source": [
    "#### Accuracy"
   ]
  },
  {
   "cell_type": "markdown",
   "metadata": {},
   "source": [
    "To evaluate the accuracy of function implementations, we measure _error in ulps_. Ulp stands for _unit in the last place_. In this Jupyter notebook, we use the Kahan definition of $\\text{ulp}(y)$, where $y$ is an arbitrary real number:\n",
    "\n",
    "> $\\text{ulp}(y)$ is the gap between the two finite floating-point numbers nearest $y$, even if $y$ is not contained in that interval."
   ]
  },
  {
   "cell_type": "markdown",
   "metadata": {},
   "source": [
    "Let $\\hat{f}$ be an implementation of the mathematical function $f$. Given a representation $\\mathbb{T}$ with finite precision (e.g., `float32`) and an input $x \\in \\mathbb{T}$, the floating-point number $\\hat{y} \\equiv \\hat{f}(x)$ is an approximation of the real number $y \\equiv f(x)$. The error in ulps of $\\hat{y}$ relative to $y$, $E_{\\text{ulps}}(y, \\hat{y})$, is given by:\n",
    "\n",
    "$$E_{\\text{ulps}}(y, \\hat{y}) = \\frac{|y - \\hat{y}|}{\\text{ulp}(y)}.$$\n",
    "\n",
    "Ideally, this error is always less than 0.5 in round-to-nearest mode for any pair $(y, \\hat{y})$. In fact, this metric has the following interesting property (here we assume that $\\mathbb{T}$ is a binary floating-point representation):\n",
    "\n",
    "> $E_{\\text{ulps}}(\\hat{y}) < 0.5$ if, and only if, $\\hat{y} = \\text{RN}(y)$, where $\\text{RN}(\\cdot)$ is the round-to-nearest function."
   ]
  },
  {
   "cell_type": "markdown",
   "metadata": {},
   "source": [
    "The exact but unknown value $y$ is computed with high precision using the Python library [`mpmath`](https://mpmath.org/)."
   ]
  },
  {
   "cell_type": "markdown",
   "metadata": {},
   "source": [
    "To compare different implementations in terms of accuracy, we calculate the maximum and the root mean square (RMS) of the observed errors for each combination of implementation and domain, with lower values indicating higher accuracy."
   ]
  },
  {
   "cell_type": "markdown",
   "metadata": {},
   "source": [
    "#### Runtime Performance"
   ]
  },
  {
   "cell_type": "markdown",
   "metadata": {},
   "source": [
    "For runtime performance, we measure the execution time using the `benchmark` module in Mojo and a custom function based on the `timeit` module in Python."
   ]
  },
  {
   "cell_type": "markdown",
   "metadata": {},
   "source": [
    "We assess runtime performance by calculating the average execution time for each implementation-domain combination, with lower values denoting better performance."
   ]
  },
  {
   "cell_type": "markdown",
   "metadata": {},
   "source": [
    "### Packages and Auxiliary Functions\n",
    "\n",
    "In this section, we import packages and auxiliary functions essential for conducting our experiments and measuring results."
   ]
  },
  {
   "cell_type": "code",
   "execution_count": 3,
   "metadata": {},
   "outputs": [],
   "source": [
    "import math\n",
    "\n",
    "from python import Python\n",
    "from python.object import PythonObject\n",
    "\n",
    "Python.add_to_path(\".\")\n",
    "Python.add_to_path(\"..\")\n"
   ]
  },
  {
   "cell_type": "code",
   "execution_count": 4,
   "metadata": {},
   "outputs": [],
   "source": [
    "%%python\n",
    "\n",
    "from importlib.util import find_spec\n",
    "import shutil\n",
    "import subprocess\n",
    "\n",
    "fix = \"\"\"\n",
    "-------------------------------------------------------------------------\n",
    "To fix this, follow the steps in the link below:\n",
    "    https://github.com/modularml/mojo/issues/1085#issuecomment-1771403719\n",
    "-------------------------------------------------------------------------\n",
    "\"\"\"\n",
    "\n",
    "def install_if_missing(name: str):\n",
    "    if find_spec(name.replace(\"-\", \"_\")):\n",
    "        return\n",
    "\n",
    "    print(f\"The package `{name}` was not found. We will install it...\")\n",
    "    try:\n",
    "        if shutil.which(\"python3\"): python = \"python3\"\n",
    "        elif shutil.which(\"python\"): python = \"python\"\n",
    "        else:\n",
    "            raise RuntimeError(\"Python is not on `PATH`. \" + fix)\n",
    "        subprocess.check_call([python, \"-m\", \"pip\", \"install\", name])\n",
    "    except:\n",
    "        raise ImportError(f\"The package `{name}` was not found. \" + fix)\n",
    "\n",
    "install_if_missing(\"mpmath\")\n",
    "install_if_missing(\"numpy\")\n",
    "install_if_missing(\"tabulate\")\n"
   ]
  },
  {
   "cell_type": "code",
   "execution_count": 5,
   "metadata": {},
   "outputs": [],
   "source": [
    "%%python\n",
    "\n",
    "import mpmath as mp\n",
    "import numpy as np\n"
   ]
  },
  {
   "cell_type": "code",
   "execution_count": 6,
   "metadata": {},
   "outputs": [],
   "source": [
    "import specials\n",
    "\n",
    "from benchmark_utils import run_experiment\n"
   ]
  },
  {
   "cell_type": "markdown",
   "metadata": {},
   "source": [
    "## Experiment Results\n",
    "\n",
    "In this section, we delve into the results of our experiments for each elementary function evaluated.\n"
   ]
  },
  {
   "cell_type": "markdown",
   "metadata": {},
   "source": [
    "### Exp\n",
    "\n",
    "This section shows the experiment results for `exp`, which computes the exponential of `x`."
   ]
  },
  {
   "cell_type": "code",
   "execution_count": 7,
   "metadata": {},
   "outputs": [],
   "source": [
    "%%python\n",
    "\n",
    "def numpy_exp(x):\n",
    "    \"\"\"Computes the exponential of a given array using NumPy.\"\"\"\n",
    "    return np.exp(x)\n",
    "\n",
    "\n",
    "def mpmath_exp(x):\n",
    "    \"\"\"Computes the exponential of a given array using mpmath.\"\"\"\n",
    "    def _mp_exp_impl(a):\n",
    "        with mp.workdps(50):\n",
    "            res = mp.exp(mp.mpf(a))\n",
    "        return mp.nstr(res, 40)\n",
    "\n",
    "    return np.frompyfunc(_mp_exp_impl, 1, 1)(x)\n"
   ]
  },
  {
   "cell_type": "code",
   "execution_count": 8,
   "metadata": {},
   "outputs": [
    {
     "name": "stdout",
     "output_type": "stream",
     "text": [
      "\n",
      "Experiment: Exp (float32)\n",
      "\n",
      "                               Maximum Error          RMS Error    Average Execution\n",
      "Domain        Solution       Observed (ulps)    Observed (ulps)         Time (msecs)\n",
      "------------  -----------  -----------------  -----------------  -------------------\n",
      "-1e-05,1e-05  Specials                 0.500              0.288                0.183\n",
      "              Mojo Stdlib              0.501              0.288                0.072\n",
      "              NumPy                    1.492              0.568                0.159\n",
      "------------  -----------  -----------------  -----------------  -------------------\n",
      "-1,1          Specials                 0.513              0.289                0.187\n",
      "              Mojo Stdlib              1.523              0.421                0.074\n",
      "              NumPy                    2.156              0.572                0.147\n",
      "------------  -----------  -----------------  -----------------  -------------------\n",
      "-4,4          Specials                 0.513              0.289                0.192\n",
      "              Mojo Stdlib              1.159              0.410                0.074\n",
      "              NumPy                    2.287              0.580                0.149\n",
      "------------  -----------  -----------------  -----------------  -------------------\n",
      "-20,20        Specials                 0.515              0.289                0.197\n",
      "              Mojo Stdlib              1.816              0.563                0.074\n",
      "              NumPy                    2.305              0.579                0.154\n",
      "------------  -----------  -----------------  -----------------  -------------------\n",
      "-87,87        Specials                 0.515              0.289                0.192\n",
      "              Mojo Stdlib              4.630              1.752                0.073\n",
      "              NumPy                    2.293              0.579                0.151\n"
     ]
    }
   ],
   "source": [
    "run_experiment[\n",
    "    num_domains=5,\n",
    "    specials_func = specials.exp,\n",
    "    mojo_func = math.exp,\n",
    "    dtype = DType.float32,\n",
    "    force_sequential=force_sequential,\n",
    "](\n",
    "    experiment_name=\"Exp\",\n",
    "    num_samples=num_samples,\n",
    "    min_values=StaticTuple[5, FloatLiteral](-1e-5, -1.0, -4.0, -20.0, -87.0),\n",
    "    max_values=StaticTuple[5, FloatLiteral](1e-5, 1.0, 4.0, 20.0, 87.0),\n",
    "    truth_func=mpmath_exp,\n",
    "    python_func=numpy_exp,\n",
    "    python_func_name=\"NumPy\",\n",
    ")\n"
   ]
  },
  {
   "cell_type": "code",
   "execution_count": 9,
   "metadata": {},
   "outputs": [
    {
     "name": "stdout",
     "output_type": "stream",
     "text": [
      "\n",
      "Experiment: Exp (float64)\n",
      "\n",
      "                               Maximum Error          RMS Error    Average Execution\n",
      "Domain        Solution       Observed (ulps)    Observed (ulps)         Time (msecs)\n",
      "------------  -----------  -----------------  -----------------  -------------------\n",
      "-1e-14,1e-14  Specials                 0.500              0.289                0.388\n",
      "              Mojo Stdlib              0.500              0.289                0.189\n",
      "              NumPy                    0.500              0.289                0.722\n",
      "------------  -----------  -----------------  -----------------  -------------------\n",
      "-1,1          Specials                 0.514              0.288                0.411\n",
      "              Mojo Stdlib          2,543.586          1,512.897                0.187\n",
      "              NumPy                    0.504              0.288                0.721\n",
      "------------  -----------  -----------------  -----------------  -------------------\n",
      "-8,8          Specials                 0.516              0.289                0.397\n",
      "              Mojo Stdlib         27,974.306         12,462.504                0.189\n",
      "              NumPy                    0.503              0.289                0.746\n",
      "------------  -----------  -----------------  -----------------  -------------------\n",
      "-80,80        Specials                 0.513              0.289                0.381\n",
      "              Mojo Stdlib        292,047.667        124,711.614                0.201\n",
      "              NumPy                    0.505              0.289                0.683\n",
      "------------  -----------  -----------------  -----------------  -------------------\n",
      "-708,708      Specials                 0.514              0.289                0.381\n",
      "              Mojo Stdlib      2,589,813.709      1,104,325.643                0.188\n",
      "              NumPy                    0.505              0.289                1.079\n"
     ]
    }
   ],
   "source": [
    "run_experiment[\n",
    "    num_domains=5,\n",
    "    specials_func = specials.exp,\n",
    "    mojo_func = math.exp,\n",
    "    dtype = DType.float64,\n",
    "    force_sequential=force_sequential,\n",
    "](\n",
    "    experiment_name=\"Exp\",\n",
    "    num_samples=num_samples,\n",
    "    min_values=StaticTuple[5, FloatLiteral](-1e-14, -1.0, -8.0, -80.0, -708.0),\n",
    "    max_values=StaticTuple[5, FloatLiteral](1e-14, 1.0, 8.0, 80.0, 708.0),\n",
    "    truth_func=mpmath_exp,\n",
    "    python_func=numpy_exp,\n",
    "    python_func_name=\"NumPy\",\n",
    ")\n"
   ]
  },
  {
   "cell_type": "markdown",
   "metadata": {},
   "source": [
    "### Exp2\n",
    "\n",
    "This section shows the experiment results for `exp2`, which computes the base-2 exponential of `x`."
   ]
  },
  {
   "cell_type": "code",
   "execution_count": 10,
   "metadata": {},
   "outputs": [],
   "source": [
    "%%python\n",
    "\n",
    "def numpy_exp2(x):\n",
    "    \"\"\"Computes the base-2 exponential of a given array using NumPy.\"\"\"\n",
    "    return np.exp2(x)\n",
    "\n",
    "\n",
    "def mpmath_exp2(x):\n",
    "    \"\"\"Computes the base-2 exponential of a given array using mpmath.\"\"\"\n",
    "    def _mp_exp2_impl(a):\n",
    "        with mp.workdps(50):\n",
    "            res = mp.power(mp.mpf(2), mp.mpf(a))\n",
    "        return mp.nstr(res, 40)\n",
    "\n",
    "    return np.frompyfunc(_mp_exp2_impl, 1, 1)(x)\n"
   ]
  },
  {
   "cell_type": "code",
   "execution_count": 11,
   "metadata": {},
   "outputs": [
    {
     "name": "stdout",
     "output_type": "stream",
     "text": [
      "\n",
      "Experiment: Exp2 (float32)\n",
      "\n",
      "                               Maximum Error          RMS Error    Average Execution\n",
      "Domain        Solution       Observed (ulps)    Observed (ulps)         Time (msecs)\n",
      "------------  -----------  -----------------  -----------------  -------------------\n",
      "-1e-05,1e-05  Specials                 0.500              0.289                0.213\n",
      "              Mojo Stdlib              0.500              0.289                0.059\n",
      "              NumPy                    0.500              0.289                0.605\n",
      "------------  -----------  -----------------  -----------------  -------------------\n",
      "-1,1          Specials                 0.519              0.289                0.204\n",
      "              Mojo Stdlib            115.862             46.485                0.059\n",
      "              NumPy                    0.501              0.289                0.636\n",
      "------------  -----------  -----------------  -----------------  -------------------\n",
      "-5,5          Specials                 0.515              0.289                0.213\n",
      "              Mojo Stdlib            115.926             46.672                0.058\n",
      "              NumPy                    0.501              0.288                0.598\n",
      "------------  -----------  -----------------  -----------------  -------------------\n",
      "-25,25        Specials                 0.518              0.288                0.210\n",
      "              Mojo Stdlib            116.090             46.556                0.058\n",
      "              NumPy                    0.501              0.288                0.583\n",
      "------------  -----------  -----------------  -----------------  -------------------\n",
      "-126,127      Specials                 0.517              0.288                0.208\n",
      "              Mojo Stdlib      8,373,886.471        281,476.388                0.059\n",
      "              NumPy                    0.501              0.288                0.630\n"
     ]
    }
   ],
   "source": [
    "run_experiment[\n",
    "    num_domains=5,\n",
    "    specials_func = specials.exp2,\n",
    "    mojo_func = math.exp2,\n",
    "    dtype = DType.float32,\n",
    "    force_sequential=force_sequential,\n",
    "](\n",
    "    experiment_name=\"Exp2\",\n",
    "    num_samples=num_samples,\n",
    "    min_values=StaticTuple[5, FloatLiteral](-1e-5, -1.0, -5.0, -25.0, -126.0),\n",
    "    max_values=StaticTuple[5, FloatLiteral](1e-5, 1.0, 5.0, 25.0, 127.0),\n",
    "    truth_func=mpmath_exp2,\n",
    "    python_func=numpy_exp2,\n",
    "    python_func_name=\"NumPy\",\n",
    ")\n"
   ]
  },
  {
   "cell_type": "code",
   "execution_count": 12,
   "metadata": {},
   "outputs": [
    {
     "name": "stdout",
     "output_type": "stream",
     "text": [
      "\n",
      "Experiment: Exp2 (float64)\n",
      "\n",
      "                               Maximum Error          RMS Error    Average Execution\n",
      "Domain        Solution       Observed (ulps)    Observed (ulps)         Time (msecs)\n",
      "------------  -----------  -----------------  -----------------  -------------------\n",
      "-1e-14,1e-14  Specials                 0.500              0.289                0.398\n",
      "              Mojo Stdlib              0.500              0.289                0.168\n",
      "              NumPy                    0.500              0.289                0.731\n",
      "------------  -----------  -----------------  -----------------  -------------------\n",
      "-1,1          Specials                 0.517              0.289                0.383\n",
      "              Mojo Stdlib           6.19e+10           2.50e+10                0.159\n",
      "              NumPy                    0.507              0.289                0.756\n",
      "------------  -----------  -----------------  -----------------  -------------------\n",
      "-10,10        Specials                 0.520              0.289                0.400\n",
      "              Mojo Stdlib           6.19e+10           2.49e+10                0.156\n",
      "              NumPy                    0.506              0.289                0.683\n",
      "------------  -----------  -----------------  -----------------  -------------------\n",
      "-100,100      Specials                 0.517              0.289                0.408\n",
      "              Mojo Stdlib           6.20e+10           2.51e+10                0.162\n",
      "              NumPy                    0.505              0.289                0.704\n",
      "------------  -----------  -----------------  -----------------  -------------------\n",
      "-1022,1023    Specials                 0.519              0.289                0.390\n",
      "              Mojo Stdlib          2.38e+285          6.16e+283                0.156\n",
      "              NumPy                    0.504              0.289                1.109\n"
     ]
    }
   ],
   "source": [
    "run_experiment[\n",
    "    num_domains=5,\n",
    "    specials_func = specials.exp2,\n",
    "    mojo_func = math.exp2,\n",
    "    dtype = DType.float64,\n",
    "    force_sequential=force_sequential,\n",
    "](\n",
    "    experiment_name=\"Exp2\",\n",
    "    num_samples=num_samples,\n",
    "    min_values=StaticTuple[5, FloatLiteral](-1e-14, -1.0, -10.0, -100.0, -1022.0),\n",
    "    max_values=StaticTuple[5, FloatLiteral](1e-14, 1.0, 10.0, 100.0, 1023.0),\n",
    "    truth_func=mpmath_exp2,\n",
    "    python_func=numpy_exp2,\n",
    "    python_func_name=\"NumPy\",\n",
    ")\n"
   ]
  },
  {
   "cell_type": "markdown",
   "metadata": {},
   "source": [
    "### Expm1\n",
    "\n",
    "This section shows the experiment results for `expm1`, which computes `exp(x) - 1` in a numerically stable way."
   ]
  },
  {
   "cell_type": "code",
   "execution_count": 13,
   "metadata": {},
   "outputs": [],
   "source": [
    "%%python\n",
    "\n",
    "def numpy_expm1(x):\n",
    "    \"\"\"Computes `exp(x) - 1` for all elements in the given array using NumPy.\"\"\"\n",
    "    return np.expm1(x)\n",
    "\n",
    "\n",
    "def mpmath_expm1(x):\n",
    "    \"\"\"Computes `exp(x) - 1` for all elements in the given array using mpmath.\"\"\"\n",
    "    def _mp_expm1_impl(a):\n",
    "        with mp.workdps(50):\n",
    "            res = mp.expm1(mp.mpf(a))\n",
    "        return mp.nstr(res, 40)\n",
    "\n",
    "    return np.frompyfunc(_mp_expm1_impl, 1, 1)(x)\n"
   ]
  },
  {
   "cell_type": "code",
   "execution_count": 14,
   "metadata": {},
   "outputs": [
    {
     "name": "stdout",
     "output_type": "stream",
     "text": [
      "\n",
      "Experiment: Expm1 (float32)\n",
      "\n",
      "                               Maximum Error          RMS Error    Average Execution\n",
      "Domain        Solution       Observed (ulps)    Observed (ulps)         Time (msecs)\n",
      "------------  -----------  -----------------  -----------------  -------------------\n",
      "-1e-05,1e-05  Specials                 0.500              0.288                0.123\n",
      "              Mojo Stdlib              0.500              0.288                0.459\n",
      "              NumPy                    0.500              0.288                0.777\n",
      "------------  -----------  -----------------  -----------------  -------------------\n",
      "-1,1          Specials                 0.537              0.289                0.294\n",
      "              Mojo Stdlib              0.778              0.311                0.653\n",
      "              NumPy                    0.778              0.311                1.302\n",
      "------------  -----------  -----------------  -----------------  -------------------\n",
      "-4,4          Specials                 0.544              0.289                0.282\n",
      "              Mojo Stdlib              0.756              0.311                0.865\n",
      "              NumPy                    0.756              0.311                1.728\n",
      "------------  -----------  -----------------  -----------------  -------------------\n",
      "-20,20        Specials                 0.522              0.285                0.251\n",
      "              Mojo Stdlib              0.751              0.299                0.804\n",
      "              NumPy                    0.751              0.299                1.762\n",
      "------------  -----------  -----------------  -----------------  -------------------\n",
      "-87,87        Specials                 0.513              0.226                0.230\n",
      "              Mojo Stdlib              0.751              0.241                0.646\n",
      "              NumPy                    0.751              0.241                1.383\n"
     ]
    }
   ],
   "source": [
    "run_experiment[\n",
    "    num_domains=5,\n",
    "    specials_func = specials.expm1,\n",
    "    mojo_func = math.expm1,\n",
    "    dtype = DType.float32,\n",
    "    force_sequential=force_sequential,\n",
    "](\n",
    "    experiment_name=\"Expm1\",\n",
    "    num_samples=num_samples,\n",
    "    min_values=StaticTuple[5, FloatLiteral](-1e-5, -1.0, -4.0, -20.0, -87.0),\n",
    "    max_values=StaticTuple[5, FloatLiteral](1e-5, 1.0, 4.0, 20.0, 87.0),\n",
    "    truth_func=mpmath_expm1,\n",
    "    python_func=numpy_expm1,\n",
    "    python_func_name=\"NumPy\",\n",
    ")\n"
   ]
  },
  {
   "cell_type": "code",
   "execution_count": 15,
   "metadata": {},
   "outputs": [
    {
     "name": "stdout",
     "output_type": "stream",
     "text": [
      "\n",
      "Experiment: Expm1 (float64)\n",
      "\n",
      "                               Maximum Error          RMS Error    Average Execution\n",
      "Domain        Solution       Observed (ulps)    Observed (ulps)         Time (msecs)\n",
      "------------  -----------  -----------------  -----------------  -------------------\n",
      "-1e-14,1e-14  Specials                 0.500              0.288                0.284\n",
      "              Mojo Stdlib              0.500              0.288                0.487\n",
      "              NumPy                    0.500              0.288                0.795\n",
      "------------  -----------  -----------------  -----------------  -------------------\n",
      "-1,1          Specials                 0.541              0.289                0.675\n",
      "              Mojo Stdlib              0.808              0.311                0.718\n",
      "              NumPy                    0.808              0.311                1.653\n",
      "------------  -----------  -----------------  -----------------  -------------------\n",
      "-8,8          Specials                 0.540              0.288                1.730\n",
      "              Mojo Stdlib              0.814              0.305                2.329\n",
      "              NumPy                    0.814              0.305                2.044\n",
      "------------  -----------  -----------------  -----------------  -------------------\n",
      "-80,80        Specials                 0.536              0.249                0.548\n",
      "              Mojo Stdlib              0.741              0.262                0.854\n",
      "              NumPy                    0.741              0.262                1.895\n",
      "------------  -----------  -----------------  -----------------  -------------------\n",
      "-708,708      Specials                 0.511              0.210                0.575\n",
      "              Mojo Stdlib              0.751              0.225                0.664\n",
      "              NumPy                    0.751              0.225                1.359\n"
     ]
    }
   ],
   "source": [
    "run_experiment[\n",
    "    num_domains=5,\n",
    "    specials_func = specials.expm1,\n",
    "    mojo_func = math.expm1,\n",
    "    dtype = DType.float64,\n",
    "    force_sequential=force_sequential,\n",
    "](\n",
    "    experiment_name=\"Expm1\",\n",
    "    num_samples=num_samples,\n",
    "    min_values=StaticTuple[5, FloatLiteral](-1e-14, -1.0, -8.0, -80.0, -708.0),\n",
    "    max_values=StaticTuple[5, FloatLiteral](1e-14, 1.0, 8.0, 80.0, 708.0),\n",
    "    truth_func=mpmath_expm1,\n",
    "    python_func=numpy_expm1,\n",
    "    python_func_name=\"NumPy\",\n",
    ")\n"
   ]
  },
  {
   "cell_type": "markdown",
   "metadata": {},
   "source": [
    "## Appendix: System information"
   ]
  },
  {
   "cell_type": "markdown",
   "metadata": {},
   "source": [
    "Below, information about the system used to run the experiment."
   ]
  },
  {
   "cell_type": "code",
   "execution_count": 16,
   "metadata": {},
   "outputs": [
    {
     "name": "stdout",
     "output_type": "stream",
     "text": [
      "modular 0.4.1 (2d8afe15)\n",
      "mojo 0.7.0 (af002202)\n"
     ]
    }
   ],
   "source": [
    "%%python\n",
    "\n",
    "subprocess.run([\"modular\", \"-v\"])\n",
    "subprocess.run([\"mojo\", \"-v\"])\n"
   ]
  },
  {
   "cell_type": "code",
   "execution_count": 17,
   "metadata": {},
   "outputs": [
    {
     "name": "stdout",
     "output_type": "stream",
     "text": [
      "System Information\n",
      "  OS                   : linux\n",
      "  CPU                  : haswell\n",
      "  Arch                 : x86_64-unknown-linux-gnu\n",
      "  Num Physical Cores   : 4\n",
      "  CPU Features         : sse4 avx avx2\n"
     ]
    }
   ],
   "source": [
    "from sys.info import (\n",
    "    os_is_linux,\n",
    "    os_is_windows,\n",
    "    os_is_macos,\n",
    "    has_sse4,\n",
    "    has_avx,\n",
    "    has_avx2,\n",
    "    has_avx512f,\n",
    "    has_vnni,\n",
    "    has_neon,\n",
    "    is_apple_m1,\n",
    "    has_intel_amx,\n",
    "    num_physical_cores,\n",
    "    _current_target,\n",
    "    _current_cpu,\n",
    "    _triple_attr,\n",
    ")\n",
    "\n",
    "var os: StringLiteral\n",
    "if os_is_linux():\n",
    "    os = \"linux\"\n",
    "elif os_is_macos():\n",
    "    os = \"macOS\"\n",
    "else:\n",
    "    os = \"windows\"\n",
    "\n",
    "var cpu = String(_current_cpu())\n",
    "var arch = String(_triple_attr())\n",
    "\n",
    "var cpu_features = String(\"\")\n",
    "if has_sse4():\n",
    "    cpu_features += \" sse4\"\n",
    "if has_avx():\n",
    "    cpu_features += \" avx\"\n",
    "if has_avx2():\n",
    "    cpu_features += \" avx2\"\n",
    "if has_avx512f():\n",
    "    cpu_features += \" avx512f\"\n",
    "if has_vnni():\n",
    "    if has_avx512f():\n",
    "        cpu_features += \" avx512_vnni\"\n",
    "    else:\n",
    "        cpu_features += \" avx_vnni\"\n",
    "if has_intel_amx():\n",
    "    cpu_features += \" intel_amx\"\n",
    "if has_neon():\n",
    "    cpu_features += \" neon\"\n",
    "if is_apple_m1():\n",
    "    cpu_features += \" apple_m1\"\n",
    "\n",
    "if len(cpu_features) > 0:\n",
    "    cpu_features = cpu_features[1:]\n",
    "\n",
    "print(\"System Information\")\n",
    "print(\"  OS                   :\", os)\n",
    "print(\"  CPU                  :\", cpu)\n",
    "print(\"  Arch                 :\", arch)\n",
    "print(\"  Num Physical Cores   :\", num_physical_cores())\n",
    "print(\"  CPU Features         :\", cpu_features)\n"
   ]
  },
  {
   "cell_type": "code",
   "execution_count": 18,
   "metadata": {},
   "outputs": [
    {
     "name": "stdout",
     "output_type": "stream",
     "text": [
      "mpmath version: 1.3.0\n",
      "NumPy version: 1.26.2\n",
      "Python version: 3.11.5 (main, Sep 11 2023, 14:07:11) [GCC 11.2.0]\n",
      "Tabulate version: 0.9.0\n"
     ]
    }
   ],
   "source": [
    "%%python\n",
    "import pkg_resources\n",
    "import sys\n",
    "\n",
    "def get_version(package):\n",
    "    \"\"\"Returns the version of a Python package.\"\"\"\n",
    "    return pkg_resources.get_distribution(package).version\n",
    "\n",
    "print(\"mpmath version:\", mp.__version__)\n",
    "print(\"NumPy version:\", np.__version__)\n",
    "print(\"Python version:\", sys.version)\n",
    "print(\"Tabulate version:\", get_version(\"tabulate\"))\n"
   ]
  }
 ],
 "metadata": {
  "kernelspec": {
   "display_name": "Mojo",
   "language": "mojo",
   "name": "mojo-jupyter-kernel"
  },
  "language_info": {
   "codemirror_mode": {
    "name": "mojo"
   },
   "file_extension": ".mojo",
   "mimetype": "text/x-mojo",
   "name": "mojo"
  }
 },
 "nbformat": 4,
 "nbformat_minor": 2
}
