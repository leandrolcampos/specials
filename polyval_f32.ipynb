{
 "cells": [
  {
   "cell_type": "code",
   "execution_count": 1,
   "metadata": {},
   "outputs": [],
   "source": [
    "%%python\n",
    "from importlib.util import find_spec\n",
    "import shutil\n",
    "import subprocess\n",
    "\n",
    "fix = \"\"\"\n",
    "-------------------------------------------------------------------------\n",
    "To fix this, follow the steps in the link below:\n",
    "    https://github.com/modularml/mojo/issues/1085#issuecomment-1771403719\n",
    "-------------------------------------------------------------------------\n",
    "\"\"\"\n",
    "\n",
    "def install_if_missing(name: str):\n",
    "    if find_spec(name.replace(\"-\", \"_\")):\n",
    "        return\n",
    "\n",
    "    print(f\"The package `{name}` was not found. We will install it...\")\n",
    "    try:\n",
    "        if shutil.which(\"python3\"): python = \"python3\"\n",
    "        elif shutil.which(\"python\"): python = \"python\"\n",
    "        else:\n",
    "            raise RuntimeError(\"Python is not on `PATH`. \" + fix)\n",
    "        subprocess.check_call([python, \"-m\", \"pip\", \"install\", name])\n",
    "    except:\n",
    "        raise ImportError(f\"The package `{name}` was not found. \" + fix)\n",
    "\n",
    "install_if_missing(\"mpmath\")\n",
    "install_if_missing(\"numpy\")\n",
    "install_if_missing(\"tabulate\")\n"
   ]
  },
  {
   "cell_type": "code",
   "execution_count": 2,
   "metadata": {},
   "outputs": [],
   "source": [
    "%%python\n",
    "import mpmath as mp\n",
    "import numpy as np\n",
    "\n",
    "\n",
    "def py_numpy_polyval(coeffs, x):\n",
    "    return np.polyval(coeffs[::-1], x)\n",
    "\n",
    "\n",
    "def py_mpmath_polyval(coeffs, x):\n",
    "    _coeffs = [mp.mpf(c) for c in coeffs[::-1]]\n",
    "\n",
    "    def _mp_polyval_impl(a):\n",
    "        with mp.workdps(350):\n",
    "            res = mp.polyval(_coeffs, mp.mpf(a))\n",
    "        return res\n",
    "\n",
    "    dtype = np.result_type(x)\n",
    "    return np.frompyfunc(_mp_polyval_impl, 1, 1)(x).astype(dtype)\n"
   ]
  },
  {
   "cell_type": "code",
   "execution_count": 3,
   "metadata": {},
   "outputs": [],
   "source": [
    "import math\n",
    "\n",
    "from python import Python\n",
    "from python.object import PythonObject\n",
    "from utils.static_tuple import StaticTuple\n",
    "\n",
    "from specials._internal.limits import FloatLimits\n",
    "from specials._internal.polynomial import Polynomial\n",
    "from specials._internal.tensor import (\n",
    "    elementwise,\n",
    "    random_uniform,\n",
    "    run_benchmark,\n",
    "    tensor_to_numpy_array,\n",
    "    UnaryOperator,\n",
    ")\n",
    "\n",
    "Python.add_to_path(\".\")\n",
    "\n",
    "\n",
    "fn solution_report[\n",
    "    solution_name: StringLiteral,\n",
    "    func: UnaryOperator,\n",
    "    dtype: DType,\n",
    "    simd_width: Int = simdwidthof[dtype](),\n",
    "](x: Tensor[dtype], truth: PythonObject) raises -> PythonObject:\n",
    "    \"\"\"Computes the evaluation metrics for a given numerical solution in Mojo.\"\"\"\n",
    "    let builtins = Python.import_module(\"builtins\")\n",
    "    let np = Python.import_module(\"numpy\")\n",
    "    let numerics_testing = Python.import_module(\"specials._internal.numerics_testing\")\n",
    "\n",
    "    let result = elementwise[func](x)\n",
    "    let msecs = run_benchmark[func](x).mean(\"ms\")\n",
    "    let relerr = numerics_testing.py_relative_error(\n",
    "        tensor_to_numpy_array(result), truth\n",
    "    )\n",
    "\n",
    "    let report = builtins.list()\n",
    "    _ = report.append(solution_name)\n",
    "    _ = report.append(np.max(relerr))\n",
    "    _ = report.append(np.mean(relerr))\n",
    "    _ = report.append(msecs)\n",
    "\n",
    "    return report\n"
   ]
  },
  {
   "cell_type": "code",
   "execution_count": 4,
   "metadata": {},
   "outputs": [],
   "source": [
    "%%python\n",
    "from timeit import timeit\n",
    "\n",
    "from specials._internal import numerics_testing\n",
    "\n",
    "\n",
    "def py_benchmark(func, *args):\n",
    "    \"\"\"Computes the average execution time of a Python function.\"\"\"\n",
    "    # Warmup phase\n",
    "    _ = timeit(lambda: func(*args), number=2)\n",
    "\n",
    "    msecs = 1000 * timeit(lambda: func(*args), number=100) / 100\n",
    "    return msecs\n",
    "\n",
    "\n",
    "def py_solution_report(solution_name, func, coeffs, x_arr, truth):\n",
    "    \"\"\"Computes the evaluation metrics for a given numerical solution in Python.\"\"\"\n",
    "    result = func(coeffs, x_arr)\n",
    "    msecs = py_benchmark(func, coeffs, x_arr)\n",
    "    relerr = numerics_testing.py_relative_error(result, truth)\n",
    "\n",
    "    return [solution_name, np.max(relerr), np.mean(relerr), msecs]\n"
   ]
  },
  {
   "cell_type": "code",
   "execution_count": 5,
   "metadata": {},
   "outputs": [],
   "source": [
    "%%python\n",
    "from tabulate import tabulate, SEPARATING_LINE\n",
    "\n",
    "\n",
    "def py_print_table(\n",
    "    data, domain_names, num_solutions, experiment_name\n",
    "):\n",
    "    \"\"\"Prints the evaluation metrics for all numerical solutions.\"\"\"\n",
    "    headers = [\n",
    "        \"\\nDegree\",\n",
    "        \"\\nSolution\",\n",
    "        \"Maximum\\nRelative Error\",\n",
    "        \"Mean\\nRelative Error\",\n",
    "        \"Mean Execution Time\\n(in milliseconds)\",\n",
    "    ]\n",
    "\n",
    "    # Insert domain names\n",
    "    current_domain = 0\n",
    "    for i, report in enumerate(data):\n",
    "        if i % num_solutions == 0:\n",
    "            domain_name = domain_names[current_domain]\n",
    "            data[i].insert(0, domain_name)\n",
    "            current_domain += 1\n",
    "        else:\n",
    "            data[i].insert(0, \"\")\n",
    "\n",
    "    # Insert horizontal lines between domains\n",
    "    for index in range(num_solutions, len(data) + num_solutions, num_solutions + 1):\n",
    "        data.insert(index, SEPARATING_LINE)\n",
    "\n",
    "    print(f\"\\nExperiment: {experiment_name}\\n\")\n",
    "\n",
    "    floatfmt = (\".2e\", \".2e\", \".2e\", \".2e\", \".3f\")\n",
    "    table = tabulate(data, headers, tablefmt=\"simple\", floatfmt=floatfmt)\n",
    "\n",
    "    print(table)\n"
   ]
  },
  {
   "cell_type": "code",
   "execution_count": 6,
   "metadata": {},
   "outputs": [],
   "source": [
    "alias dtype = DType.float32\n",
    "alias simd_width = simdwidthof[dtype]()\n"
   ]
  },
  {
   "cell_type": "code",
   "execution_count": 7,
   "metadata": {},
   "outputs": [],
   "source": [
    "random.seed(42)\n",
    "let x = random_uniform[dtype](-10.0, 10.0, 250_000)\n",
    "let x_arr = tensor_to_numpy_array(x)\n"
   ]
  },
  {
   "cell_type": "code",
   "execution_count": 8,
   "metadata": {},
   "outputs": [],
   "source": [
    "let builtins = Python.import_module(\"builtins\")\n",
    "let domain_names = builtins.list()\n",
    "let data = builtins.list()\n"
   ]
  },
  {
   "cell_type": "markdown",
   "metadata": {},
   "source": [
    "### Degree 1"
   ]
  },
  {
   "cell_type": "code",
   "execution_count": 9,
   "metadata": {},
   "outputs": [],
   "source": [
    "fn mojo_polyval_varlist(x: SIMD) -> SIMD[x.type, x.size]:\n",
    "    return math.polynomial_evaluate[\n",
    "        x.type,\n",
    "        x.size,\n",
    "        VariadicList(\n",
    "            SIMD[x.type, x.size](1.0),\n",
    "            SIMD[x.type, x.size](0.5),\n",
    "        ),\n",
    "    ](x)\n"
   ]
  },
  {
   "cell_type": "code",
   "execution_count": 10,
   "metadata": {},
   "outputs": [],
   "source": [
    "fn mojo_polyval_tuple(x: SIMD) -> SIMD[x.type, x.size]:\n",
    "    return math.polynomial_evaluate[\n",
    "        x.type,\n",
    "        x.size,\n",
    "        2,\n",
    "        StaticTuple[2, SIMD[x.type, x.size]](\n",
    "            1.0,\n",
    "            0.5,\n",
    "        ),\n",
    "    ](x)\n"
   ]
  },
  {
   "cell_type": "code",
   "execution_count": 11,
   "metadata": {},
   "outputs": [],
   "source": [
    "fn specials_polyval(x: SIMD) -> SIMD[x.type, x.size]:\n",
    "    alias p = Polynomial[2, x.type, x.size].from_coefficients[\n",
    "        1.0,\n",
    "        0.5,\n",
    "    ]()\n",
    "    return p(x)\n"
   ]
  },
  {
   "cell_type": "code",
   "execution_count": 12,
   "metadata": {},
   "outputs": [],
   "source": [
    "%%python\n",
    "coeffs = [\n",
    "    1.0,\n",
    "    0.5,\n",
    "]\n"
   ]
  },
  {
   "cell_type": "code",
   "execution_count": 13,
   "metadata": {},
   "outputs": [],
   "source": [
    "_ = domain_names.append(\"1\")\n",
    "\n",
    "# mpmath\n",
    "let truth = py_mpmath_polyval(coeffs, x_arr)\n",
    "\n",
    "# Specials\n",
    "let specials_report = solution_report[\"Specials\", specials_polyval, dtype](x, truth)\n",
    "_ = data.append(specials_report)\n",
    "\n",
    "# Mojo - VariadicList\n",
    "let mojo_varlist_report = solution_report[\n",
    "    \"Mojo - VariadicList\", mojo_polyval_varlist, dtype\n",
    "](x, truth)\n",
    "_ = data.append(mojo_varlist_report)\n",
    "\n",
    "# Mojo - StaticTuple\n",
    "let mojo_tuple_report = solution_report[\n",
    "    \"Mojo - StaticTuple\", mojo_polyval_tuple, dtype\n",
    "](x, truth)\n",
    "_ = data.append(mojo_tuple_report)\n",
    "\n",
    "# NumPy\n",
    "let numpy_report = py_solution_report(\"NumPy\", py_numpy_polyval, coeffs, x_arr, truth)\n",
    "_ = data.append(numpy_report)\n"
   ]
  },
  {
   "cell_type": "markdown",
   "metadata": {},
   "source": [
    "### Degree 2"
   ]
  },
  {
   "cell_type": "code",
   "execution_count": 14,
   "metadata": {},
   "outputs": [],
   "source": [
    "fn mojo_polyval_varlist(x: SIMD) -> SIMD[x.type, x.size]:\n",
    "    return math.polynomial_evaluate[\n",
    "        x.type,\n",
    "        x.size,\n",
    "        VariadicList(\n",
    "            SIMD[x.type, x.size](1.0),\n",
    "            SIMD[x.type, x.size](0.5),\n",
    "            SIMD[x.type, x.size](0.25),\n",
    "        ),\n",
    "    ](x)\n"
   ]
  },
  {
   "cell_type": "code",
   "execution_count": 15,
   "metadata": {},
   "outputs": [],
   "source": [
    "fn mojo_polyval_tuple(x: SIMD) -> SIMD[x.type, x.size]:\n",
    "    return math.polynomial_evaluate[\n",
    "        x.type,\n",
    "        x.size,\n",
    "        3,\n",
    "        StaticTuple[3, SIMD[x.type, x.size]](\n",
    "            1.0,\n",
    "            0.5,\n",
    "            0.25,\n",
    "        ),\n",
    "    ](x)\n"
   ]
  },
  {
   "cell_type": "code",
   "execution_count": 16,
   "metadata": {},
   "outputs": [],
   "source": [
    "fn specials_polyval(x: SIMD) -> SIMD[x.type, x.size]:\n",
    "    alias p = Polynomial[3, x.type, x.size].from_coefficients[\n",
    "        1.0,\n",
    "        0.5,\n",
    "        0.25,\n",
    "    ]()\n",
    "    return p(x)\n"
   ]
  },
  {
   "cell_type": "code",
   "execution_count": 17,
   "metadata": {},
   "outputs": [],
   "source": [
    "%%python\n",
    "coeffs = [\n",
    "    1.0,\n",
    "    0.5,\n",
    "    0.25,\n",
    "]\n"
   ]
  },
  {
   "cell_type": "code",
   "execution_count": 18,
   "metadata": {},
   "outputs": [],
   "source": [
    "_ = domain_names.append(\"2\")\n",
    "\n",
    "# mpmath\n",
    "let truth = py_mpmath_polyval(coeffs, x_arr)\n",
    "\n",
    "# Specials\n",
    "let specials_report = solution_report[\"Specials\", specials_polyval, dtype](x, truth)\n",
    "_ = data.append(specials_report)\n",
    "\n",
    "# Mojo - VariadicList\n",
    "let mojo_varlist_report = solution_report[\n",
    "    \"Mojo - VariadicList\", mojo_polyval_varlist, dtype\n",
    "](x, truth)\n",
    "_ = data.append(mojo_varlist_report)\n",
    "\n",
    "# Mojo - StaticTuple\n",
    "let mojo_tuple_report = solution_report[\n",
    "    \"Mojo - StaticTuple\", mojo_polyval_tuple, dtype\n",
    "](x, truth)\n",
    "_ = data.append(mojo_tuple_report)\n",
    "\n",
    "# NumPy\n",
    "let numpy_report = py_solution_report(\"NumPy\", py_numpy_polyval, coeffs, x_arr, truth)\n",
    "_ = data.append(numpy_report)\n"
   ]
  },
  {
   "cell_type": "markdown",
   "metadata": {},
   "source": [
    "### Degree 4"
   ]
  },
  {
   "cell_type": "code",
   "execution_count": 19,
   "metadata": {},
   "outputs": [],
   "source": [
    "fn mojo_polyval_varlist(x: SIMD) -> SIMD[x.type, x.size]:\n",
    "    return math.polynomial_evaluate[\n",
    "        x.type,\n",
    "        x.size,\n",
    "        VariadicList(\n",
    "            SIMD[x.type, x.size](1.0),\n",
    "            SIMD[x.type, x.size](0.5),\n",
    "            SIMD[x.type, x.size](0.25),\n",
    "            SIMD[x.type, x.size](0.125),\n",
    "            SIMD[x.type, x.size](0.0625),\n",
    "        ),\n",
    "    ](x)\n"
   ]
  },
  {
   "cell_type": "code",
   "execution_count": 20,
   "metadata": {},
   "outputs": [],
   "source": [
    "fn mojo_polyval_tuple(x: SIMD) -> SIMD[x.type, x.size]:\n",
    "    return math.polynomial_evaluate[\n",
    "        x.type,\n",
    "        x.size,\n",
    "        5,\n",
    "        StaticTuple[5, SIMD[x.type, x.size]](\n",
    "            1.0,\n",
    "            0.5,\n",
    "            0.25,\n",
    "            0.125,\n",
    "            0.0625,\n",
    "        ),\n",
    "    ](x)\n"
   ]
  },
  {
   "cell_type": "code",
   "execution_count": 21,
   "metadata": {},
   "outputs": [],
   "source": [
    "fn specials_polyval(x: SIMD) -> SIMD[x.type, x.size]:\n",
    "    alias p = Polynomial[5, x.type, x.size].from_coefficients[\n",
    "        1.0,\n",
    "        0.5,\n",
    "        0.25,\n",
    "        0.125,\n",
    "        0.0625,\n",
    "    ]()\n",
    "    return p(x)\n"
   ]
  },
  {
   "cell_type": "code",
   "execution_count": 22,
   "metadata": {},
   "outputs": [],
   "source": [
    "%%python\n",
    "coeffs = [\n",
    "    1.0,\n",
    "    0.5,\n",
    "    0.25,\n",
    "    0.125,\n",
    "    0.0625,\n",
    "]\n"
   ]
  },
  {
   "cell_type": "code",
   "execution_count": 23,
   "metadata": {},
   "outputs": [],
   "source": [
    "_ = domain_names.append(\"4\")\n",
    "\n",
    "# mpmath\n",
    "let truth = py_mpmath_polyval(coeffs, x_arr)\n",
    "\n",
    "# Specials\n",
    "let specials_report = solution_report[\"Specials\", specials_polyval, dtype](x, truth)\n",
    "_ = data.append(specials_report)\n",
    "\n",
    "# Mojo - VariadicList\n",
    "let mojo_varlist_report = solution_report[\n",
    "    \"Mojo - VariadicList\", mojo_polyval_varlist, dtype\n",
    "](x, truth)\n",
    "_ = data.append(mojo_varlist_report)\n",
    "\n",
    "# Mojo - StaticTuple\n",
    "let mojo_tuple_report = solution_report[\n",
    "    \"Mojo - StaticTuple\", mojo_polyval_tuple, dtype\n",
    "](x, truth)\n",
    "_ = data.append(mojo_tuple_report)\n",
    "\n",
    "# NumPy\n",
    "let numpy_report = py_solution_report(\"NumPy\", py_numpy_polyval, coeffs, x_arr, truth)\n",
    "_ = data.append(numpy_report)\n"
   ]
  },
  {
   "cell_type": "markdown",
   "metadata": {},
   "source": [
    "### Degree 8"
   ]
  },
  {
   "cell_type": "code",
   "execution_count": 24,
   "metadata": {},
   "outputs": [],
   "source": [
    "fn mojo_polyval_varlist(x: SIMD) -> SIMD[x.type, x.size]:\n",
    "    return math.polynomial_evaluate[\n",
    "        x.type,\n",
    "        x.size,\n",
    "        VariadicList(\n",
    "            SIMD[x.type, x.size](1.0),\n",
    "            SIMD[x.type, x.size](0.5),\n",
    "            SIMD[x.type, x.size](0.25),\n",
    "            SIMD[x.type, x.size](0.125),\n",
    "            SIMD[x.type, x.size](0.0625),\n",
    "            SIMD[x.type, x.size](0.03125),\n",
    "            SIMD[x.type, x.size](0.015625),\n",
    "            SIMD[x.type, x.size](0.0078125),\n",
    "            SIMD[x.type, x.size](0.00390625),\n",
    "        ),\n",
    "    ](x)\n"
   ]
  },
  {
   "cell_type": "code",
   "execution_count": 25,
   "metadata": {},
   "outputs": [],
   "source": [
    "fn mojo_polyval_tuple(x: SIMD) -> SIMD[x.type, x.size]:\n",
    "    return math.polynomial_evaluate[\n",
    "        x.type,\n",
    "        x.size,\n",
    "        9,\n",
    "        StaticTuple[9, SIMD[x.type, x.size]](\n",
    "            1.0,\n",
    "            0.5,\n",
    "            0.25,\n",
    "            0.125,\n",
    "            0.0625,\n",
    "            0.03125,\n",
    "            0.015625,\n",
    "            0.0078125,\n",
    "            0.00390625,\n",
    "        ),\n",
    "    ](x)\n"
   ]
  },
  {
   "cell_type": "code",
   "execution_count": 26,
   "metadata": {},
   "outputs": [],
   "source": [
    "fn specials_polyval(x: SIMD) -> SIMD[x.type, x.size]:\n",
    "    alias p = Polynomial[9, x.type, x.size].from_coefficients[\n",
    "        1.0,\n",
    "        0.5,\n",
    "        0.25,\n",
    "        0.125,\n",
    "        0.0625,\n",
    "        0.03125,\n",
    "        0.015625,\n",
    "        0.0078125,\n",
    "        0.00390625,\n",
    "    ]()\n",
    "    return p(x)\n"
   ]
  },
  {
   "cell_type": "code",
   "execution_count": 27,
   "metadata": {},
   "outputs": [],
   "source": [
    "%%python\n",
    "coeffs = [\n",
    "    1.0,\n",
    "    0.5,\n",
    "    0.25,\n",
    "    0.125,\n",
    "    0.0625,\n",
    "    0.03125,\n",
    "    0.015625,\n",
    "    0.0078125,\n",
    "    0.00390625,\n",
    "]\n"
   ]
  },
  {
   "cell_type": "code",
   "execution_count": 28,
   "metadata": {},
   "outputs": [],
   "source": [
    "_ = domain_names.append(\"8\")\n",
    "\n",
    "# mpmath\n",
    "let truth = py_mpmath_polyval(coeffs, x_arr)\n",
    "\n",
    "# Specials\n",
    "let specials_report = solution_report[\"Specials\", specials_polyval, dtype](x, truth)\n",
    "_ = data.append(specials_report)\n",
    "\n",
    "# Mojo - VariadicList\n",
    "let mojo_varlist_report = solution_report[\n",
    "    \"Mojo - VariadicList\", mojo_polyval_varlist, dtype\n",
    "](x, truth)\n",
    "_ = data.append(mojo_varlist_report)\n",
    "\n",
    "# Mojo - StaticTuple\n",
    "let mojo_tuple_report = solution_report[\n",
    "    \"Mojo - StaticTuple\", mojo_polyval_tuple, dtype\n",
    "](x, truth)\n",
    "_ = data.append(mojo_tuple_report)\n",
    "\n",
    "# NumPy\n",
    "let numpy_report = py_solution_report(\"NumPy\", py_numpy_polyval, coeffs, x_arr, truth)\n",
    "_ = data.append(numpy_report)\n"
   ]
  },
  {
   "cell_type": "markdown",
   "metadata": {},
   "source": [
    "### Degree 16"
   ]
  },
  {
   "cell_type": "code",
   "execution_count": 29,
   "metadata": {},
   "outputs": [],
   "source": [
    "fn mojo_polyval_varlist(x: SIMD) -> SIMD[x.type, x.size]:\n",
    "    return math.polynomial_evaluate[\n",
    "        x.type,\n",
    "        x.size,\n",
    "        VariadicList(\n",
    "            SIMD[x.type, x.size](1.0),\n",
    "            SIMD[x.type, x.size](0.5),\n",
    "            SIMD[x.type, x.size](0.25),\n",
    "            SIMD[x.type, x.size](0.125),\n",
    "            SIMD[x.type, x.size](0.0625),\n",
    "            SIMD[x.type, x.size](0.03125),\n",
    "            SIMD[x.type, x.size](0.015625),\n",
    "            SIMD[x.type, x.size](0.0078125),\n",
    "            SIMD[x.type, x.size](0.00390625),\n",
    "            SIMD[x.type, x.size](0.001953125),\n",
    "            SIMD[x.type, x.size](0.0009765625),\n",
    "            SIMD[x.type, x.size](0.00048828125),\n",
    "            SIMD[x.type, x.size](0.000244140625),\n",
    "            SIMD[x.type, x.size](0.0001220703125),\n",
    "            SIMD[x.type, x.size](6.103515625e-05),\n",
    "            SIMD[x.type, x.size](3.0517578125e-05),\n",
    "            SIMD[x.type, x.size](1.52587890625e-05),\n",
    "        ),\n",
    "    ](x)\n"
   ]
  },
  {
   "cell_type": "code",
   "execution_count": 30,
   "metadata": {},
   "outputs": [],
   "source": [
    "fn mojo_polyval_tuple(x: SIMD) -> SIMD[x.type, x.size]:\n",
    "    return math.polynomial_evaluate[\n",
    "        x.type,\n",
    "        x.size,\n",
    "        17,\n",
    "        StaticTuple[17, SIMD[x.type, x.size]](\n",
    "            1.0,\n",
    "            0.5,\n",
    "            0.25,\n",
    "            0.125,\n",
    "            0.0625,\n",
    "            0.03125,\n",
    "            0.015625,\n",
    "            0.0078125,\n",
    "            0.00390625,\n",
    "            0.001953125,\n",
    "            0.0009765625,\n",
    "            0.00048828125,\n",
    "            0.000244140625,\n",
    "            0.0001220703125,\n",
    "            6.103515625e-05,\n",
    "            3.0517578125e-05,\n",
    "            1.52587890625e-05,\n",
    "        ),\n",
    "    ](x)\n"
   ]
  },
  {
   "cell_type": "code",
   "execution_count": 31,
   "metadata": {},
   "outputs": [],
   "source": [
    "fn specials_polyval(x: SIMD) -> SIMD[x.type, x.size]:\n",
    "    alias p = Polynomial[17, x.type, x.size].from_coefficients[\n",
    "        1.0,\n",
    "        0.5,\n",
    "        0.25,\n",
    "        0.125,\n",
    "        0.0625,\n",
    "        0.03125,\n",
    "        0.015625,\n",
    "        0.0078125,\n",
    "        0.00390625,\n",
    "        0.001953125,\n",
    "        0.0009765625,\n",
    "        0.00048828125,\n",
    "        0.000244140625,\n",
    "        0.0001220703125,\n",
    "        6.103515625e-05,\n",
    "        3.0517578125e-05,\n",
    "        1.52587890625e-05,\n",
    "    ]()\n",
    "    return p(x)\n"
   ]
  },
  {
   "cell_type": "code",
   "execution_count": 32,
   "metadata": {},
   "outputs": [],
   "source": [
    "%%python\n",
    "coeffs = [\n",
    "    1.0,\n",
    "    0.5,\n",
    "    0.25,\n",
    "    0.125,\n",
    "    0.0625,\n",
    "    0.03125,\n",
    "    0.015625,\n",
    "    0.0078125,\n",
    "    0.00390625,\n",
    "    0.001953125,\n",
    "    0.0009765625,\n",
    "    0.00048828125,\n",
    "    0.000244140625,\n",
    "    0.0001220703125,\n",
    "    6.103515625e-05,\n",
    "    3.0517578125e-05,\n",
    "    1.52587890625e-05,\n",
    "]\n"
   ]
  },
  {
   "cell_type": "code",
   "execution_count": 33,
   "metadata": {},
   "outputs": [],
   "source": [
    "_ = domain_names.append(\"16\")\n",
    "\n",
    "# mpmath\n",
    "let truth = py_mpmath_polyval(coeffs, x_arr)\n",
    "\n",
    "# Specials\n",
    "let specials_report = solution_report[\"Specials\", specials_polyval, dtype](x, truth)\n",
    "_ = data.append(specials_report)\n",
    "\n",
    "# Mojo - VariadicList\n",
    "let mojo_varlist_report = solution_report[\n",
    "    \"Mojo - VariadicList\", mojo_polyval_varlist, dtype\n",
    "](x, truth)\n",
    "_ = data.append(mojo_varlist_report)\n",
    "\n",
    "# Mojo - StaticTuple\n",
    "let mojo_tuple_report = solution_report[\n",
    "    \"Mojo - StaticTuple\", mojo_polyval_tuple, dtype\n",
    "](x, truth)\n",
    "_ = data.append(mojo_tuple_report)\n",
    "\n",
    "# NumPy\n",
    "let numpy_report = py_solution_report(\"NumPy\", py_numpy_polyval, coeffs, x_arr, truth)\n",
    "_ = data.append(numpy_report)\n"
   ]
  },
  {
   "cell_type": "code",
   "execution_count": 34,
   "metadata": {},
   "outputs": [
    {
     "name": "stdout",
     "output_type": "stream",
     "text": [
      "\n",
      "Experiment: Polynomal Evaluation (float32)\n",
      "\n",
      "                                        Maximum              Mean    Mean Execution Time\n",
      "Degree    Solution               Relative Error    Relative Error      (in milliseconds)\n",
      "--------  -------------------  ----------------  ----------------  ---------------------\n",
      "1         Specials                     0.00e+00          0.00e+00                  0.097\n",
      "          Mojo - VariadicList          0.00e+00          0.00e+00                  0.099\n",
      "          Mojo - StaticTuple           0.00e+00          0.00e+00                  0.098\n",
      "          NumPy                        0.00e+00          0.00e+00                  0.430\n",
      "--------  -------------------  ----------------  ----------------  ---------------------\n",
      "2         Specials                     0.00e+00          0.00e+00                  0.102\n",
      "          Mojo - VariadicList          1.19e-07          1.69e-08                  0.102\n",
      "          Mojo - StaticTuple           1.19e-07          1.69e-08                  0.101\n",
      "          NumPy                        1.19e-07          7.07e-09                  0.588\n",
      "--------  -------------------  ----------------  ----------------  ---------------------\n",
      "4         Specials                     1.89e-07          2.46e-08                  0.103\n",
      "          Mojo - VariadicList          3.18e-07          4.29e-08                  0.106\n",
      "          Mojo - StaticTuple           3.18e-07          4.29e-08                  0.121\n",
      "          NumPy                        2.36e-07          2.87e-08                  0.944\n",
      "--------  -------------------  ----------------  ----------------  ---------------------\n",
      "8         Specials                     2.81e-07          4.14e-08                  0.107\n",
      "          Mojo - VariadicList          5.58e-07          8.37e-08                  0.109\n",
      "          Mojo - StaticTuple           5.58e-07          8.37e-08                  0.109\n",
      "          NumPy                        3.57e-07          4.54e-08                  1.731\n",
      "--------  -------------------  ----------------  ----------------  ---------------------\n",
      "16        Specials                     4.39e-07          6.31e-08                  0.206\n",
      "          Mojo - VariadicList          4.39e-07          6.31e-08                  0.208\n",
      "          Mojo - StaticTuple           4.39e-07          6.31e-08                  0.200\n",
      "          NumPy                        5.91e-07          6.90e-08                  3.050\n"
     ]
    }
   ],
   "source": [
    "py_print_table(data, domain_names, 4, \"Polynomal Evaluation\" + \" (\" + str(dtype) + \")\")\n"
   ]
  },
  {
   "cell_type": "markdown",
   "metadata": {},
   "source": [
    "## Appendix A: System information"
   ]
  },
  {
   "cell_type": "markdown",
   "metadata": {},
   "source": [
    "Below, information about the system used to run the experiment."
   ]
  },
  {
   "cell_type": "code",
   "execution_count": 35,
   "metadata": {},
   "outputs": [
    {
     "name": "stdout",
     "output_type": "stream",
     "text": [
      "modular 0.4.1 (2d8afe15)\n",
      "mojo 0.7.0 (af002202)\n"
     ]
    }
   ],
   "source": [
    "%%python\n",
    "\n",
    "subprocess.run([\"modular\", \"-v\"])\n",
    "subprocess.run([\"mojo\", \"-v\"])\n"
   ]
  },
  {
   "cell_type": "code",
   "execution_count": 36,
   "metadata": {},
   "outputs": [
    {
     "name": "stdout",
     "output_type": "stream",
     "text": [
      "System Information\n",
      "    OS          : linux\n",
      "    CPU         : haswell\n",
      "    Arch        : x86_64-unknown-linux-gnu\n",
      "    Num Cores   : 4\n",
      "    CPU Features: sse4 avx avx2\n"
     ]
    }
   ],
   "source": [
    "from sys.info import (\n",
    "    os_is_linux,\n",
    "    os_is_windows,\n",
    "    os_is_macos,\n",
    "    has_sse4,\n",
    "    has_avx,\n",
    "    has_avx2,\n",
    "    has_avx512f,\n",
    "    has_vnni,\n",
    "    has_neon,\n",
    "    is_apple_m1,\n",
    "    has_intel_amx,\n",
    "    num_physical_cores,\n",
    "    _current_target,\n",
    "    _current_cpu,\n",
    "    _triple_attr,\n",
    ")\n",
    "\n",
    "let os: StringLiteral\n",
    "if os_is_linux():\n",
    "    os = \"linux\"\n",
    "elif os_is_macos():\n",
    "    os = \"macOS\"\n",
    "else:\n",
    "    os = \"windows\"\n",
    "\n",
    "let cpu = String(_current_cpu())\n",
    "let arch = String(_triple_attr())\n",
    "\n",
    "var cpu_features = String(\"\")\n",
    "if has_sse4():\n",
    "    cpu_features += \" sse4\"\n",
    "if has_avx():\n",
    "    cpu_features += \" avx\"\n",
    "if has_avx2():\n",
    "    cpu_features += \" avx2\"\n",
    "if has_avx512f():\n",
    "    cpu_features += \" avx512f\"\n",
    "if has_vnni():\n",
    "    if has_avx512f():\n",
    "        cpu_features += \" avx512_vnni\"\n",
    "    else:\n",
    "        cpu_features += \" avx_vnni\"\n",
    "if has_intel_amx():\n",
    "    cpu_features += \" intel_amx\"\n",
    "if has_neon():\n",
    "    cpu_features += \" neon\"\n",
    "if is_apple_m1():\n",
    "    cpu_features += \" apple_m1\"\n",
    "\n",
    "if len(cpu_features) > 0:\n",
    "    cpu_features = cpu_features[1:]\n",
    "\n",
    "print(\"System Information\")\n",
    "print(\"    OS          :\", os)\n",
    "print(\"    CPU         :\", cpu)\n",
    "print(\"    Arch        :\", arch)\n",
    "print(\"    Num Cores   :\", num_physical_cores())\n",
    "print(\"    CPU Features:\", cpu_features)\n"
   ]
  },
  {
   "cell_type": "code",
   "execution_count": 37,
   "metadata": {},
   "outputs": [
    {
     "name": "stdout",
     "output_type": "stream",
     "text": [
      "mpmath version: 1.3.0\n",
      "NumPy version: 1.26.2\n",
      "Python version: 3.11.5 (main, Sep 11 2023, 14:07:11) [GCC 11.2.0]\n",
      "Tabulate version: 0.9.0\n"
     ]
    }
   ],
   "source": [
    "%%python\n",
    "import pkg_resources\n",
    "import sys\n",
    "\n",
    "def get_version(package):\n",
    "    \"\"\"Returns the version of a Python package.\"\"\"\n",
    "    return pkg_resources.get_distribution(package).version\n",
    "\n",
    "print(\"mpmath version:\", mp.__version__)\n",
    "print(\"NumPy version:\", np.__version__)\n",
    "print(\"Python version:\", sys.version)\n",
    "print(\"Tabulate version:\", get_version(\"tabulate\"))\n"
   ]
  }
 ],
 "metadata": {
  "kernelspec": {
   "display_name": "Mojo",
   "language": "mojo",
   "name": "mojo-jupyter-kernel"
  },
  "language_info": {
   "codemirror_mode": {
    "name": "mojo"
   },
   "file_extension": ".mojo",
   "mimetype": "text/x-mojo",
   "name": "mojo"
  }
 },
 "nbformat": 4,
 "nbformat_minor": 2
}
